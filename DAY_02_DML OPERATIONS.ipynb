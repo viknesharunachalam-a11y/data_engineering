{
 "cells": [
  {
   "cell_type": "markdown",
   "metadata": {
    "application/vnd.databricks.v1+cell": {
     "cellMetadata": {},
     "inputWidgets": {},
     "nuid": "5938c6cd-304f-4f3d-a7e8-a423619525d7",
     "showTitle": false,
     "tableResultSettingsMap": {},
     "title": ""
    }
   },
   "source": [
    "**PART 1: DATABASE SETUP**"
   ]
  },
  {
   "cell_type": "code",
   "execution_count": 0,
   "metadata": {
    "application/vnd.databricks.v1+cell": {
     "cellMetadata": {
      "byteLimit": 2048000,
      "rowLimit": 10000
     },
     "inputWidgets": {},
     "nuid": "3d1bbcc5-9ed0-44dd-8cb0-fcac18d2494c",
     "showTitle": false,
     "tableResultSettingsMap": {},
     "title": ""
    }
   },
   "outputs": [
    {
     "output_type": "display_data",
     "data": {
      "text/html": [
       "<style scoped>\n",
       "  .table-result-container {\n",
       "    max-height: 300px;\n",
       "    overflow: auto;\n",
       "  }\n",
       "  table, th, td {\n",
       "    border: 1px solid black;\n",
       "    border-collapse: collapse;\n",
       "  }\n",
       "  th, td {\n",
       "    padding: 5px;\n",
       "  }\n",
       "  th {\n",
       "    text-align: left;\n",
       "  }\n",
       "</style><div class='table-result-container'><table class='table-result'><thead style='background-color: white'><tr><th>current_db</th></tr></thead><tbody><tr><td>bank_management</td></tr></tbody></table></div>"
      ]
     },
     "metadata": {
      "application/vnd.databricks.v1+output": {
       "addedWidgets": {},
       "aggData": [],
       "aggError": "",
       "aggOverflow": false,
       "aggSchema": [],
       "aggSeriesLimitReached": false,
       "aggType": "",
       "arguments": {},
       "columnCustomDisplayInfos": {},
       "data": [
        [
         "bank_management"
        ]
       ],
       "datasetInfos": [
        {
         "name": "_sqldf",
         "schema": {
          "fields": [
           {
            "metadata": {},
            "name": "current_db",
            "nullable": false,
            "type": "string"
           }
          ],
          "type": "struct"
         },
         "tableIdentifier": null,
         "typeStr": "pyspark.sql.connect.dataframe.DataFrame"
        }
       ],
       "dbfsResultPath": null,
       "isJsonSchema": true,
       "metadata": {
        "createTempViewForImplicitDf": true,
        "dataframeName": "_sqldf",
        "executionCount": 2
       },
       "overflow": false,
       "plotOptions": {
        "customPlotOptions": {},
        "displayType": "table",
        "pivotAggregation": null,
        "pivotColumns": null,
        "xColumns": null,
        "yColumns": null
       },
       "removedWidgets": [],
       "schema": [
        {
         "metadata": "{}",
         "name": "current_db",
         "type": "\"string\""
        }
       ],
       "type": "table"
      }
     },
     "output_type": "display_data"
    }
   ],
   "source": [
    "-- Day 2: DML Operations, Data Transformation, CASE, NULL Handling\n",
    "-- Created by : Viknesh Arunachalam\n",
    "-- Date: October 29, 2025\n",
    "\n",
    "CREATE DATABASE IF NOT EXISTS bank_management;\n",
    "\n",
    "USE bank_management;\n",
    "\n",
    "SELECT current_database() AS current_db;"
   ]
  },
  {
   "cell_type": "markdown",
   "metadata": {
    "application/vnd.databricks.v1+cell": {
     "cellMetadata": {},
     "inputWidgets": {},
     "nuid": "c41968d3-845b-4501-8188-41511df6f865",
     "showTitle": false,
     "tableResultSettingsMap": {},
     "title": ""
    }
   },
   "source": [
    "**Part 2: CREATE TABLES**\n",
    "\n",
    "*Table 1: Customers*"
   ]
  },
  {
   "cell_type": "code",
   "execution_count": 0,
   "metadata": {
    "application/vnd.databricks.v1+cell": {
     "cellMetadata": {
      "byteLimit": 2048000,
      "rowLimit": 10000
     },
     "inputWidgets": {},
     "nuid": "8c29a99e-26d6-44e0-beb3-986513b7089e",
     "showTitle": false,
     "tableResultSettingsMap": {},
     "title": ""
    }
   },
   "outputs": [
    {
     "output_type": "display_data",
     "data": {
      "text/html": [
       "<style scoped>\n",
       "  .table-result-container {\n",
       "    max-height: 300px;\n",
       "    overflow: auto;\n",
       "  }\n",
       "  table, th, td {\n",
       "    border: 1px solid black;\n",
       "    border-collapse: collapse;\n",
       "  }\n",
       "  th, td {\n",
       "    padding: 5px;\n",
       "  }\n",
       "  th {\n",
       "    text-align: left;\n",
       "  }\n",
       "</style><div class='table-result-container'><table class='table-result'><thead style='background-color: white'><tr><th>col_name</th><th>data_type</th><th>comment</th></tr></thead><tbody><tr><td>customer_id</td><td>int</td><td>null</td></tr><tr><td>first_name</td><td>string</td><td>null</td></tr><tr><td>last_name</td><td>string</td><td>null</td></tr><tr><td>email</td><td>string</td><td>null</td></tr><tr><td>phone</td><td>string</td><td>null</td></tr><tr><td>address</td><td>string</td><td>null</td></tr><tr><td>city</td><td>string</td><td>null</td></tr><tr><td>state</td><td>string</td><td>null</td></tr><tr><td>date_of_birth</td><td>date</td><td>null</td></tr><tr><td>account_opened_date</td><td>date</td><td>null</td></tr><tr><td>customer_type</td><td>string</td><td>null</td></tr><tr><td>kyc_status</td><td>string</td><td>null</td></tr></tbody></table></div>"
      ]
     },
     "metadata": {
      "application/vnd.databricks.v1+output": {
       "addedWidgets": {},
       "aggData": [],
       "aggError": "",
       "aggOverflow": false,
       "aggSchema": [],
       "aggSeriesLimitReached": false,
       "aggType": "",
       "arguments": {},
       "columnCustomDisplayInfos": {},
       "data": [
        [
         "customer_id",
         "int",
         null
        ],
        [
         "first_name",
         "string",
         null
        ],
        [
         "last_name",
         "string",
         null
        ],
        [
         "email",
         "string",
         null
        ],
        [
         "phone",
         "string",
         null
        ],
        [
         "address",
         "string",
         null
        ],
        [
         "city",
         "string",
         null
        ],
        [
         "state",
         "string",
         null
        ],
        [
         "date_of_birth",
         "date",
         null
        ],
        [
         "account_opened_date",
         "date",
         null
        ],
        [
         "customer_type",
         "string",
         null
        ],
        [
         "kyc_status",
         "string",
         null
        ]
       ],
       "datasetInfos": [
        {
         "name": "_sqldf",
         "schema": {
          "fields": [
           {
            "metadata": {},
            "name": "col_name",
            "nullable": false,
            "type": "string"
           },
           {
            "metadata": {},
            "name": "data_type",
            "nullable": false,
            "type": "string"
           },
           {
            "metadata": {},
            "name": "comment",
            "nullable": true,
            "type": "string"
           }
          ],
          "type": "struct"
         },
         "tableIdentifier": null,
         "typeStr": "pyspark.sql.connect.dataframe.DataFrame"
        }
       ],
       "dbfsResultPath": null,
       "isJsonSchema": true,
       "metadata": {
        "createTempViewForImplicitDf": true,
        "dataframeName": "_sqldf",
        "executionCount": 3
       },
       "overflow": false,
       "plotOptions": {
        "customPlotOptions": {},
        "displayType": "table",
        "pivotAggregation": null,
        "pivotColumns": null,
        "xColumns": null,
        "yColumns": null
       },
       "removedWidgets": [],
       "schema": [
        {
         "metadata": "{}",
         "name": "col_name",
         "type": "\"string\""
        },
        {
         "metadata": "{}",
         "name": "data_type",
         "type": "\"string\""
        },
        {
         "metadata": "{}",
         "name": "comment",
         "type": "\"string\""
        }
       ],
       "type": "table"
      }
     },
     "output_type": "display_data"
    }
   ],
   "source": [
    "-- Table 1: CUSTOMERS\n",
    "-- Stores bank customer information\n",
    "\n",
    "create table if not exists customers (\n",
    "  customer_id int not null,\n",
    "  first_name string not null,\n",
    "  last_name string not null,\n",
    "  email string not null,\n",
    "  phone string,\n",
    "  address string,\n",
    "  city string,\n",
    "  state string,\n",
    "  date_of_birth date,\n",
    "  account_opened_date date, --default current_date()\n",
    "  customer_type string, --default 'REGULAR'\n",
    "  kyc_status string,  -- default 'Pending'\n",
    "\n",
    "  constraint pk_customers primary key (customer_id)\n",
    "--constraint uq_customers_email UNIQUE (email)\n",
    "--CONSTRAINT chk_customer_type CHECK (customer_type IN ('Regular', 'Premium', 'VIP')),\n",
    "--CONSTRAINT chk_kyc_status CHECK (kyc_status IN ('Pending', 'Verified', 'Rejected'))\n",
    ");\n",
    "\n",
    "--Check table structure\n",
    "DESCRIBE customers;"
   ]
  },
  {
   "cell_type": "markdown",
   "metadata": {
    "application/vnd.databricks.v1+cell": {
     "cellMetadata": {},
     "inputWidgets": {},
     "nuid": "0f892fbb-c60e-4db3-9d38-f9fff3f9fa52",
     "showTitle": false,
     "tableResultSettingsMap": {},
     "title": ""
    }
   },
   "source": [
    "*Table 2: Accounts*"
   ]
  },
  {
   "cell_type": "code",
   "execution_count": 0,
   "metadata": {
    "application/vnd.databricks.v1+cell": {
     "cellMetadata": {
      "byteLimit": 2048000,
      "rowLimit": 10000
     },
     "inputWidgets": {},
     "nuid": "2d465a80-a486-4636-afe8-1a9f38f0628a",
     "showTitle": false,
     "tableResultSettingsMap": {},
     "title": ""
    }
   },
   "outputs": [
    {
     "output_type": "display_data",
     "data": {
      "text/html": [
       "<style scoped>\n",
       "  .table-result-container {\n",
       "    max-height: 300px;\n",
       "    overflow: auto;\n",
       "  }\n",
       "  table, th, td {\n",
       "    border: 1px solid black;\n",
       "    border-collapse: collapse;\n",
       "  }\n",
       "  th, td {\n",
       "    padding: 5px;\n",
       "  }\n",
       "  th {\n",
       "    text-align: left;\n",
       "  }\n",
       "</style><div class='table-result-container'><table class='table-result'><thead style='background-color: white'><tr><th>col_name</th><th>data_type</th><th>comment</th></tr></thead><tbody><tr><td>account_id</td><td>int</td><td>null</td></tr><tr><td>customer_id</td><td>int</td><td>null</td></tr><tr><td>account_number</td><td>string</td><td>null</td></tr><tr><td>account_type</td><td>string</td><td>null</td></tr><tr><td>balance</td><td>decimal(10,2)</td><td>null</td></tr><tr><td>currency</td><td>string</td><td>null</td></tr><tr><td>INTEREST_RATE</td><td>decimal(5,2)</td><td>null</td></tr><tr><td>overdraft_limit</td><td>decimal(10,2)</td><td>null</td></tr><tr><td>status</td><td>string</td><td>null</td></tr><tr><td>opened_date</td><td>date</td><td>null</td></tr><tr><td>last_transaction_date</td><td>date</td><td>null</td></tr></tbody></table></div>"
      ]
     },
     "metadata": {
      "application/vnd.databricks.v1+output": {
       "addedWidgets": {},
       "aggData": [],
       "aggError": "",
       "aggOverflow": false,
       "aggSchema": [],
       "aggSeriesLimitReached": false,
       "aggType": "",
       "arguments": {},
       "columnCustomDisplayInfos": {},
       "data": [
        [
         "account_id",
         "int",
         null
        ],
        [
         "customer_id",
         "int",
         null
        ],
        [
         "account_number",
         "string",
         null
        ],
        [
         "account_type",
         "string",
         null
        ],
        [
         "balance",
         "decimal(10,2)",
         null
        ],
        [
         "currency",
         "string",
         null
        ],
        [
         "INTEREST_RATE",
         "decimal(5,2)",
         null
        ],
        [
         "overdraft_limit",
         "decimal(10,2)",
         null
        ],
        [
         "status",
         "string",
         null
        ],
        [
         "opened_date",
         "date",
         null
        ],
        [
         "last_transaction_date",
         "date",
         null
        ]
       ],
       "datasetInfos": [
        {
         "name": "_sqldf",
         "schema": {
          "fields": [
           {
            "metadata": {},
            "name": "col_name",
            "nullable": false,
            "type": "string"
           },
           {
            "metadata": {},
            "name": "data_type",
            "nullable": false,
            "type": "string"
           },
           {
            "metadata": {},
            "name": "comment",
            "nullable": true,
            "type": "string"
           }
          ],
          "type": "struct"
         },
         "tableIdentifier": null,
         "typeStr": "pyspark.sql.connect.dataframe.DataFrame"
        }
       ],
       "dbfsResultPath": null,
       "isJsonSchema": true,
       "metadata": {
        "createTempViewForImplicitDf": true,
        "dataframeName": "_sqldf",
        "executionCount": 4
       },
       "overflow": false,
       "plotOptions": {
        "customPlotOptions": {},
        "displayType": "table",
        "pivotAggregation": null,
        "pivotColumns": null,
        "xColumns": null,
        "yColumns": null
       },
       "removedWidgets": [],
       "schema": [
        {
         "metadata": "{}",
         "name": "col_name",
         "type": "\"string\""
        },
        {
         "metadata": "{}",
         "name": "data_type",
         "type": "\"string\""
        },
        {
         "metadata": "{}",
         "name": "comment",
         "type": "\"string\""
        }
       ],
       "type": "table"
      }
     },
     "output_type": "display_data"
    }
   ],
   "source": [
    "-- Table 2: ACCOUNTS\n",
    "-- Stores bank account information\n",
    "\n",
    "CREATE TABLE if not EXISTS accounts (\n",
    "  account_id INT NOT NULL,\n",
    "  customer_id INT NOT NULL,\n",
    "  account_number STRING NOT NULL,\n",
    "  account_type STRING NOT NULL,\n",
    "  balance DECIMAL(10,2) NOT NULL,\n",
    "  currency STRING, --default 'USD'\n",
    "  INTEREST_RATE DECIMAL(5,2), --default 0.00\n",
    "  overdraft_limit DECIMAL(10,2), --default 0.00\n",
    "  status STRING, --default 'Active'\n",
    "  opened_date DATE, --default current_date()\n",
    "  last_transaction_date DATE,\n",
    "\n",
    "  CONSTRAINT pk_accounts PRIMARY KEY (account_id)\n",
    "  --CONSTRAINT uq_accounts_customers UNIQUE (account_number),\n",
    "  --CONSTRAINT chk_account_type CHECK (account_type IN ('Savings', 'Checking', 'Fixed Deposit', 'Credit Card')),\n",
    "  --CONSTRAINT chk_status CHECK (status IN ('Active', 'Inactive', 'Frozen', 'Closed')),\n",
    "  --CONSTRAINT chk_balance CHECK (balance >= -overdraft_limit)\n",
    ");\n",
    "\n",
    "DESCRIBE accounts;"
   ]
  },
  {
   "cell_type": "markdown",
   "metadata": {
    "application/vnd.databricks.v1+cell": {
     "cellMetadata": {},
     "inputWidgets": {},
     "nuid": "049ee738-77be-4c2c-9193-2c6a004747c4",
     "showTitle": false,
     "tableResultSettingsMap": {},
     "title": ""
    }
   },
   "source": [
    "*Table 3: Transactions*"
   ]
  },
  {
   "cell_type": "code",
   "execution_count": 0,
   "metadata": {
    "application/vnd.databricks.v1+cell": {
     "cellMetadata": {
      "byteLimit": 2048000,
      "rowLimit": 10000
     },
     "inputWidgets": {},
     "nuid": "920140f2-9485-4831-bd97-7b2e28f021c2",
     "showTitle": false,
     "tableResultSettingsMap": {},
     "title": ""
    }
   },
   "outputs": [
    {
     "output_type": "display_data",
     "data": {
      "text/html": [
       "<style scoped>\n",
       "  .table-result-container {\n",
       "    max-height: 300px;\n",
       "    overflow: auto;\n",
       "  }\n",
       "  table, th, td {\n",
       "    border: 1px solid black;\n",
       "    border-collapse: collapse;\n",
       "  }\n",
       "  th, td {\n",
       "    padding: 5px;\n",
       "  }\n",
       "  th {\n",
       "    text-align: left;\n",
       "  }\n",
       "</style><div class='table-result-container'><table class='table-result'><thead style='background-color: white'><tr><th>col_name</th><th>data_type</th><th>comment</th></tr></thead><tbody><tr><td>transaction_id</td><td>int</td><td>null</td></tr><tr><td>account_id</td><td>int</td><td>null</td></tr><tr><td>transaction_type</td><td>string</td><td>null</td></tr><tr><td>amount</td><td>decimal(12,2)</td><td>null</td></tr><tr><td>transaction_date</td><td>timestamp</td><td>null</td></tr><tr><td>description</td><td>string</td><td>null</td></tr><tr><td>status</td><td>string</td><td>null</td></tr><tr><td>reference_number</td><td>string</td><td>null</td></tr></tbody></table></div>"
      ]
     },
     "metadata": {
      "application/vnd.databricks.v1+output": {
       "addedWidgets": {},
       "aggData": [],
       "aggError": "",
       "aggOverflow": false,
       "aggSchema": [],
       "aggSeriesLimitReached": false,
       "aggType": "",
       "arguments": {},
       "columnCustomDisplayInfos": {},
       "data": [
        [
         "transaction_id",
         "int",
         null
        ],
        [
         "account_id",
         "int",
         null
        ],
        [
         "transaction_type",
         "string",
         null
        ],
        [
         "amount",
         "decimal(12,2)",
         null
        ],
        [
         "transaction_date",
         "timestamp",
         null
        ],
        [
         "description",
         "string",
         null
        ],
        [
         "status",
         "string",
         null
        ],
        [
         "reference_number",
         "string",
         null
        ]
       ],
       "datasetInfos": [
        {
         "name": "_sqldf",
         "schema": {
          "fields": [
           {
            "metadata": {},
            "name": "col_name",
            "nullable": false,
            "type": "string"
           },
           {
            "metadata": {},
            "name": "data_type",
            "nullable": false,
            "type": "string"
           },
           {
            "metadata": {},
            "name": "comment",
            "nullable": true,
            "type": "string"
           }
          ],
          "type": "struct"
         },
         "tableIdentifier": null,
         "typeStr": "pyspark.sql.connect.dataframe.DataFrame"
        }
       ],
       "dbfsResultPath": null,
       "isJsonSchema": true,
       "metadata": {
        "createTempViewForImplicitDf": true,
        "dataframeName": "_sqldf",
        "executionCount": 5
       },
       "overflow": false,
       "plotOptions": {
        "customPlotOptions": {},
        "displayType": "table",
        "pivotAggregation": null,
        "pivotColumns": null,
        "xColumns": null,
        "yColumns": null
       },
       "removedWidgets": [],
       "schema": [
        {
         "metadata": "{}",
         "name": "col_name",
         "type": "\"string\""
        },
        {
         "metadata": "{}",
         "name": "data_type",
         "type": "\"string\""
        },
        {
         "metadata": "{}",
         "name": "comment",
         "type": "\"string\""
        }
       ],
       "type": "table"
      }
     },
     "output_type": "display_data"
    }
   ],
   "source": [
    "\n",
    "-- TABLE 3: TRANSACTIONS\n",
    "-- Stores all banking transactions\n",
    "\n",
    "\n",
    "CREATE TABLE if not exists transactions (\n",
    "    transaction_id INT NOT NULL,\n",
    "    account_id INT NOT NULL,\n",
    "    transaction_type STRING NOT NULL,\n",
    "    amount DECIMAL(12, 2) NOT NULL,\n",
    "    transaction_date TIMESTAMP, -- DEFAULT CURRENT_TIMESTAMP(),\n",
    "    description STRING,\n",
    "    status STRING, -- DEFAULT 'Completed',\n",
    "    reference_number STRING,\n",
    "    \n",
    "    CONSTRAINT pk_transactions PRIMARY KEY (transaction_id)\n",
    "    --CONSTRAINT chk_transaction_type CHECK (transaction_type IN ('Deposit', 'Withdrawal', 'Transfer', 'Interest', 'Fee', 'Reversal')),\n",
    "    --CONSTRAINT chk_amount CHECK (amount > 0)\n",
    "    --CONSTRAINT chk_transaction_status CHECK (status IN ('Pending', 'Completed', 'Failed', 'Reversed'))\n",
    ");\n",
    "\n",
    "DESCRIBE transactions;"
   ]
  },
  {
   "cell_type": "markdown",
   "metadata": {
    "application/vnd.databricks.v1+cell": {
     "cellMetadata": {},
     "inputWidgets": {},
     "nuid": "a5b2e9f6-d6e5-4340-b835-73ce94adfe83",
     "showTitle": false,
     "tableResultSettingsMap": {},
     "title": ""
    }
   },
   "source": [
    "**PART 3: INSERT SAMPLE DATA**\n",
    "\n",
    "*Insert Customers*"
   ]
  },
  {
   "cell_type": "code",
   "execution_count": 0,
   "metadata": {
    "application/vnd.databricks.v1+cell": {
     "cellMetadata": {
      "byteLimit": 2048000,
      "rowLimit": 10000
     },
     "inputWidgets": {},
     "nuid": "fe7922d0-c298-4ba1-95a2-72250ed8e5ff",
     "showTitle": false,
     "tableResultSettingsMap": {},
     "title": ""
    }
   },
   "outputs": [
    {
     "output_type": "display_data",
     "data": {
      "text/html": [
       "<style scoped>\n",
       "  .table-result-container {\n",
       "    max-height: 300px;\n",
       "    overflow: auto;\n",
       "  }\n",
       "  table, th, td {\n",
       "    border: 1px solid black;\n",
       "    border-collapse: collapse;\n",
       "  }\n",
       "  th, td {\n",
       "    padding: 5px;\n",
       "  }\n",
       "  th {\n",
       "    text-align: left;\n",
       "  }\n",
       "</style><div class='table-result-container'><table class='table-result'><thead style='background-color: white'><tr><th>customer_id</th><th>first_name</th><th>last_name</th><th>email</th><th>phone</th><th>address</th><th>city</th><th>state</th><th>date_of_birth</th><th>account_opened_date</th><th>customer_type</th><th>kyc_status</th></tr></thead><tbody><tr><td>1002</td><td>Sarah</td><td>Mitchell</td><td>sarah.mitchell@email.com</td><td>555-1002</td><td>150 New Street</td><td>Boston</td><td>MA</td><td>1990-08-22</td><td>2021-03-15</td><td>Regular</td><td>Verified</td></tr><tr><td>1001</td><td>John</td><td>Anderson</td><td>john.anderson@email.com</td><td>555-1001</td><td>100 Main St</td><td>New York</td><td>NY</td><td>1985-05-15</td><td>2020-01-10</td><td>Premium</td><td>Verified</td></tr><tr><td>1003</td><td>Michael</td><td>Thompson</td><td>michael.t@email.com</td><td>555-1003</td><td>300 Pine St</td><td>Chicago</td><td>IL</td><td>1978-12-10</td><td>2019-06-20</td><td>VIP</td><td>Verified</td></tr><tr><td>1005</td><td>David</td><td>Chen</td><td>david.chen@email.com</td><td>555-1005</td><td>500 Maple Dr</td><td>Phoenix</td><td>AZ</td><td>1988-07-30</td><td>2022-09-12</td><td>Premium</td><td>Verified</td></tr><tr><td>1006</td><td>Lisa</td><td>Johnson</td><td>lisa.j@email.com</td><td>555-1006</td><td>600 Cedar Ln</td><td>Philadelphia</td><td>PA</td><td>1992-11-25</td><td>2023-05-20</td><td>Regular</td><td>Pending</td></tr><tr><td>1007</td><td>Robert</td><td>Williams</td><td>robert.w@email.com</td><td>null</td><td>700 Birch Ave</td><td>San Diego</td><td>CA</td><td>1982-04-08</td><td>2020-11-30</td><td>Premium</td><td>Verified</td></tr><tr><td>1008</td><td>Jennifer</td><td>Brown</td><td>jennifer.b@email.com</td><td>555-1008</td><td>800 Spruce St</td><td>Dallas</td><td>TX</td><td>1998-09-14</td><td>2023-08-15</td><td>Regular</td><td>Rejected</td></tr><tr><td>1004</td><td>Emily</td><td>Rodriguez</td><td>emily.r@email.com</td><td>555-1004</td><td>400 Elm Rd</td><td>Houston</td><td>TX</td><td>1995-03-18</td><td>2023-01-05</td><td>Regular</td><td>Verified</td></tr><tr><td>1001</td><td>John</td><td>Anderson</td><td>john.anderson@email.com</td><td>555-1001</td><td>100 Main St</td><td>New York</td><td>NY</td><td>1985-05-15</td><td>2020-01-10</td><td>Premium</td><td>Verified</td></tr><tr><td>1002</td><td>Sarah</td><td>Mitchell</td><td>sarah.mitchell@email.com</td><td>555-1002</td><td>200 Oak Ave</td><td>Los Angeles</td><td>CA</td><td>1990-08-22</td><td>2021-03-15</td><td>Regular</td><td>Verified</td></tr><tr><td>1003</td><td>Michael</td><td>Thompson</td><td>michael.t@email.com</td><td>555-1003</td><td>300 Pine St</td><td>Chicago</td><td>IL</td><td>1978-12-10</td><td>2019-06-20</td><td>VIP</td><td>Verified</td></tr><tr><td>1004</td><td>Emily</td><td>Rodriguez</td><td>emily.r@email.com</td><td>null</td><td>400 Elm Rd</td><td>Houston</td><td>TX</td><td>1995-03-18</td><td>2023-01-05</td><td>Regular</td><td>Verified</td></tr><tr><td>1005</td><td>David</td><td>Chen</td><td>david.chen@email.com</td><td>555-1005</td><td>500 Maple Dr</td><td>Phoenix</td><td>AZ</td><td>1988-07-30</td><td>2022-09-12</td><td>Premium</td><td>Verified</td></tr><tr><td>1006</td><td>Lisa</td><td>Johnson</td><td>lisa.j@email.com</td><td>555-1006</td><td>600 Cedar Ln</td><td>Philadelphia</td><td>PA</td><td>1992-11-25</td><td>2023-05-20</td><td>Regular</td><td>Pending</td></tr><tr><td>1007</td><td>Robert</td><td>Williams</td><td>robert.w@email.com</td><td>null</td><td>700 Birch Ave</td><td>San Diego</td><td>CA</td><td>1982-04-08</td><td>2020-11-30</td><td>Premium</td><td>Verified</td></tr><tr><td>1008</td><td>Jennifer</td><td>Brown</td><td>jennifer.b@email.com</td><td>555-1008</td><td>800 Spruce St</td><td>Dallas</td><td>TX</td><td>1998-09-14</td><td>2023-08-15</td><td>Regular</td><td>Rejected</td></tr></tbody></table></div>"
      ]
     },
     "metadata": {
      "application/vnd.databricks.v1+output": {
       "addedWidgets": {},
       "aggData": [],
       "aggError": "",
       "aggOverflow": false,
       "aggSchema": [],
       "aggSeriesLimitReached": false,
       "aggType": "",
       "arguments": {},
       "columnCustomDisplayInfos": {},
       "data": [
        [
         1002,
         "Sarah",
         "Mitchell",
         "sarah.mitchell@email.com",
         "555-1002",
         "150 New Street",
         "Boston",
         "MA",
         "1990-08-22",
         "2021-03-15",
         "Regular",
         "Verified"
        ],
        [
         1001,
         "John",
         "Anderson",
         "john.anderson@email.com",
         "555-1001",
         "100 Main St",
         "New York",
         "NY",
         "1985-05-15",
         "2020-01-10",
         "Premium",
         "Verified"
        ],
        [
         1003,
         "Michael",
         "Thompson",
         "michael.t@email.com",
         "555-1003",
         "300 Pine St",
         "Chicago",
         "IL",
         "1978-12-10",
         "2019-06-20",
         "VIP",
         "Verified"
        ],
        [
         1005,
         "David",
         "Chen",
         "david.chen@email.com",
         "555-1005",
         "500 Maple Dr",
         "Phoenix",
         "AZ",
         "1988-07-30",
         "2022-09-12",
         "Premium",
         "Verified"
        ],
        [
         1006,
         "Lisa",
         "Johnson",
         "lisa.j@email.com",
         "555-1006",
         "600 Cedar Ln",
         "Philadelphia",
         "PA",
         "1992-11-25",
         "2023-05-20",
         "Regular",
         "Pending"
        ],
        [
         1007,
         "Robert",
         "Williams",
         "robert.w@email.com",
         null,
         "700 Birch Ave",
         "San Diego",
         "CA",
         "1982-04-08",
         "2020-11-30",
         "Premium",
         "Verified"
        ],
        [
         1008,
         "Jennifer",
         "Brown",
         "jennifer.b@email.com",
         "555-1008",
         "800 Spruce St",
         "Dallas",
         "TX",
         "1998-09-14",
         "2023-08-15",
         "Regular",
         "Rejected"
        ],
        [
         1004,
         "Emily",
         "Rodriguez",
         "emily.r@email.com",
         "555-1004",
         "400 Elm Rd",
         "Houston",
         "TX",
         "1995-03-18",
         "2023-01-05",
         "Regular",
         "Verified"
        ],
        [
         1001,
         "John",
         "Anderson",
         "john.anderson@email.com",
         "555-1001",
         "100 Main St",
         "New York",
         "NY",
         "1985-05-15",
         "2020-01-10",
         "Premium",
         "Verified"
        ],
        [
         1002,
         "Sarah",
         "Mitchell",
         "sarah.mitchell@email.com",
         "555-1002",
         "200 Oak Ave",
         "Los Angeles",
         "CA",
         "1990-08-22",
         "2021-03-15",
         "Regular",
         "Verified"
        ],
        [
         1003,
         "Michael",
         "Thompson",
         "michael.t@email.com",
         "555-1003",
         "300 Pine St",
         "Chicago",
         "IL",
         "1978-12-10",
         "2019-06-20",
         "VIP",
         "Verified"
        ],
        [
         1004,
         "Emily",
         "Rodriguez",
         "emily.r@email.com",
         null,
         "400 Elm Rd",
         "Houston",
         "TX",
         "1995-03-18",
         "2023-01-05",
         "Regular",
         "Verified"
        ],
        [
         1005,
         "David",
         "Chen",
         "david.chen@email.com",
         "555-1005",
         "500 Maple Dr",
         "Phoenix",
         "AZ",
         "1988-07-30",
         "2022-09-12",
         "Premium",
         "Verified"
        ],
        [
         1006,
         "Lisa",
         "Johnson",
         "lisa.j@email.com",
         "555-1006",
         "600 Cedar Ln",
         "Philadelphia",
         "PA",
         "1992-11-25",
         "2023-05-20",
         "Regular",
         "Pending"
        ],
        [
         1007,
         "Robert",
         "Williams",
         "robert.w@email.com",
         null,
         "700 Birch Ave",
         "San Diego",
         "CA",
         "1982-04-08",
         "2020-11-30",
         "Premium",
         "Verified"
        ],
        [
         1008,
         "Jennifer",
         "Brown",
         "jennifer.b@email.com",
         "555-1008",
         "800 Spruce St",
         "Dallas",
         "TX",
         "1998-09-14",
         "2023-08-15",
         "Regular",
         "Rejected"
        ]
       ],
       "datasetInfos": [
        {
         "name": "_sqldf",
         "schema": {
          "fields": [
           {
            "metadata": {},
            "name": "customer_id",
            "nullable": false,
            "type": "integer"
           },
           {
            "metadata": {},
            "name": "first_name",
            "nullable": false,
            "type": "string"
           },
           {
            "metadata": {},
            "name": "last_name",
            "nullable": false,
            "type": "string"
           },
           {
            "metadata": {},
            "name": "email",
            "nullable": false,
            "type": "string"
           },
           {
            "metadata": {},
            "name": "phone",
            "nullable": true,
            "type": "string"
           },
           {
            "metadata": {},
            "name": "address",
            "nullable": true,
            "type": "string"
           },
           {
            "metadata": {},
            "name": "city",
            "nullable": true,
            "type": "string"
           },
           {
            "metadata": {},
            "name": "state",
            "nullable": true,
            "type": "string"
           },
           {
            "metadata": {},
            "name": "date_of_birth",
            "nullable": true,
            "type": "date"
           },
           {
            "metadata": {},
            "name": "account_opened_date",
            "nullable": true,
            "type": "date"
           },
           {
            "metadata": {},
            "name": "customer_type",
            "nullable": true,
            "type": "string"
           },
           {
            "metadata": {},
            "name": "kyc_status",
            "nullable": true,
            "type": "string"
           }
          ],
          "type": "struct"
         },
         "tableIdentifier": null,
         "typeStr": "pyspark.sql.connect.dataframe.DataFrame"
        }
       ],
       "dbfsResultPath": null,
       "isJsonSchema": true,
       "metadata": {
        "createTempViewForImplicitDf": true,
        "dataframeName": "_sqldf",
        "executionCount": 6
       },
       "overflow": false,
       "plotOptions": {
        "customPlotOptions": {},
        "displayType": "table",
        "pivotAggregation": null,
        "pivotColumns": null,
        "xColumns": null,
        "yColumns": null
       },
       "removedWidgets": [],
       "schema": [
        {
         "metadata": "{}",
         "name": "customer_id",
         "type": "\"integer\""
        },
        {
         "metadata": "{}",
         "name": "first_name",
         "type": "\"string\""
        },
        {
         "metadata": "{}",
         "name": "last_name",
         "type": "\"string\""
        },
        {
         "metadata": "{}",
         "name": "email",
         "type": "\"string\""
        },
        {
         "metadata": "{}",
         "name": "phone",
         "type": "\"string\""
        },
        {
         "metadata": "{}",
         "name": "address",
         "type": "\"string\""
        },
        {
         "metadata": "{}",
         "name": "city",
         "type": "\"string\""
        },
        {
         "metadata": "{}",
         "name": "state",
         "type": "\"string\""
        },
        {
         "metadata": "{}",
         "name": "date_of_birth",
         "type": "\"date\""
        },
        {
         "metadata": "{}",
         "name": "account_opened_date",
         "type": "\"date\""
        },
        {
         "metadata": "{}",
         "name": "customer_type",
         "type": "\"string\""
        },
        {
         "metadata": "{}",
         "name": "kyc_status",
         "type": "\"string\""
        }
       ],
       "type": "table"
      }
     },
     "output_type": "display_data"
    }
   ],
   "source": [
    "\n",
    "-- INSERT CUSTOMERS DATA\n",
    "\n",
    "INSERT INTO customers (customer_id, first_name, last_name, email, phone, address, city, state, date_of_birth, account_opened_date, customer_type, kyc_status)\n",
    "VALUES\n",
    "(1001, 'John', 'Anderson', 'john.anderson@email.com', '555-1001', '100 Main St', 'New York', 'NY', DATE('1985-05-15'), DATE('2020-01-10'), 'Premium', 'Verified'),\n",
    "(1002, 'Sarah', 'Mitchell', 'sarah.mitchell@email.com', '555-1002', '200 Oak Ave', 'Los Angeles', 'CA', DATE('1990-08-22'), DATE('2021-03-15'), 'Regular', 'Verified'),\n",
    "(1003, 'Michael', 'Thompson', 'michael.t@email.com', '555-1003', '300 Pine St', 'Chicago', 'IL', DATE('1978-12-10'), DATE('2019-06-20'), 'VIP', 'Verified'),\n",
    "(1004, 'Emily', 'Rodriguez', 'emily.r@email.com', NULL, '400 Elm Rd', 'Houston', 'TX', DATE('1995-03-18'), DATE('2023-01-05'), 'Regular', 'Verified'),\n",
    "(1005, 'David', 'Chen', 'david.chen@email.com', '555-1005', '500 Maple Dr', 'Phoenix', 'AZ', DATE('1988-07-30'), DATE('2022-09-12'), 'Premium', 'Verified'),\n",
    "(1006, 'Lisa', 'Johnson', 'lisa.j@email.com', '555-1006', '600 Cedar Ln', 'Philadelphia', 'PA', DATE('1992-11-25'), DATE('2023-05-20'), 'Regular', 'Pending'),\n",
    "(1007, 'Robert', 'Williams', 'robert.w@email.com', NULL, '700 Birch Ave', 'San Diego', 'CA', DATE('1982-04-08'), DATE('2020-11-30'), 'Premium', 'Verified'),\n",
    "(1008, 'Jennifer', 'Brown', 'jennifer.b@email.com', '555-1008', '800 Spruce St', 'Dallas', 'TX', DATE('1998-09-14'), DATE('2023-08-15'), 'Regular', 'Rejected');\n",
    "\n",
    "-- Verify\n",
    "SELECT COUNT(*) AS total_customers FROM customers;\n",
    "SELECT * FROM customers;"
   ]
  },
  {
   "cell_type": "code",
   "execution_count": 0,
   "metadata": {
    "application/vnd.databricks.v1+cell": {
     "cellMetadata": {
      "byteLimit": 2048000,
      "rowLimit": 10000
     },
     "inputWidgets": {},
     "nuid": "7228681e-345b-4c70-9159-2950d1f61d5b",
     "showTitle": false,
     "tableResultSettingsMap": {},
     "title": ""
    }
   },
   "outputs": [
    {
     "output_type": "display_data",
     "data": {
      "text/html": [
       "<style scoped>\n",
       "  .table-result-container {\n",
       "    max-height: 300px;\n",
       "    overflow: auto;\n",
       "  }\n",
       "  table, th, td {\n",
       "    border: 1px solid black;\n",
       "    border-collapse: collapse;\n",
       "  }\n",
       "  th, td {\n",
       "    padding: 5px;\n",
       "  }\n",
       "  th {\n",
       "    text-align: left;\n",
       "  }\n",
       "</style><div class='table-result-container'><table class='table-result'><thead style='background-color: white'><tr><th>account_id</th><th>customer_id</th><th>account_number</th><th>account_type</th><th>balance</th><th>currency</th><th>INTEREST_RATE</th><th>overdraft_limit</th><th>status</th><th>opened_date</th><th>last_transaction_date</th></tr></thead><tbody><tr><td>2001</td><td>1001</td><td>ACC1001-SAV</td><td>Savings</td><td>15000.00</td><td>USD</td><td>2.50</td><td>0.00</td><td>Active</td><td>2020-01-10</td><td>2024-10-20</td></tr><tr><td>2002</td><td>1001</td><td>ACC1001-CHK</td><td>Checking</td><td>3500.50</td><td>USD</td><td>0.00</td><td>1000.00</td><td>Active</td><td>2020-01-10</td><td>2024-10-25</td></tr><tr><td>2003</td><td>1002</td><td>ACC1002-SAV</td><td>Savings</td><td>8200.75</td><td>USD</td><td>2.50</td><td>0.00</td><td>Active</td><td>2021-03-15</td><td>2024-10-22</td></tr><tr><td>2004</td><td>1003</td><td>ACC1003-SAV</td><td>Savings</td><td>50000.00</td><td>USD</td><td>3.00</td><td>0.00</td><td>Active</td><td>2019-06-20</td><td>2024-10-26</td></tr><tr><td>2005</td><td>1003</td><td>ACC1003-CHK</td><td>Checking</td><td>12000.00</td><td>USD</td><td>0.00</td><td>5000.00</td><td>Active</td><td>2019-06-20</td><td>2024-10-27</td></tr><tr><td>2006</td><td>1003</td><td>ACC1003-FD</td><td>Fixed Deposit</td><td>100000.00</td><td>USD</td><td>5.50</td><td>0.00</td><td>Active</td><td>2019-06-20</td><td>null</td></tr><tr><td>2007</td><td>1004</td><td>ACC1004-CHK</td><td>Checking</td><td>1250.30</td><td>USD</td><td>0.00</td><td>500.00</td><td>Active</td><td>2023-01-05</td><td>2024-10-15</td></tr><tr><td>2008</td><td>1005</td><td>ACC1005-SAV</td><td>Savings</td><td>22000.00</td><td>USD</td><td>2.50</td><td>0.00</td><td>Active</td><td>2022-09-12</td><td>2024-10-28</td></tr><tr><td>2009</td><td>1005</td><td>ACC1005-CHK</td><td>Checking</td><td>-450.00</td><td>USD</td><td>0.00</td><td>1000.00</td><td>Active</td><td>2022-09-12</td><td>2024-10-24</td></tr><tr><td>2010</td><td>1006</td><td>ACC1006-SAV</td><td>Savings</td><td>500.00</td><td>USD</td><td>2.50</td><td>0.00</td><td>Frozen</td><td>2023-05-20</td><td>null</td></tr><tr><td>2011</td><td>1007</td><td>ACC1007-SAV</td><td>Savings</td><td>18500.00</td><td>USD</td><td>2.50</td><td>0.00</td><td>Active</td><td>2020-11-30</td><td>2024-10-21</td></tr><tr><td>2012</td><td>1008</td><td>ACC1008-SAV</td><td>Savings</td><td>0.00</td><td>USD</td><td>2.50</td><td>0.00</td><td>Closed</td><td>2023-08-15</td><td>2023-09-01</td></tr><tr><td>2001</td><td>1001</td><td>ACC1001-SAV</td><td>Savings</td><td>15000.00</td><td>USD</td><td>2.50</td><td>0.00</td><td>Active</td><td>2020-01-10</td><td>2024-10-20</td></tr><tr><td>2002</td><td>1001</td><td>ACC1001-CHK</td><td>Checking</td><td>3500.50</td><td>USD</td><td>0.00</td><td>1000.00</td><td>Active</td><td>2020-01-10</td><td>2024-10-25</td></tr><tr><td>2003</td><td>1002</td><td>ACC1002-SAV</td><td>Savings</td><td>8200.75</td><td>USD</td><td>2.50</td><td>0.00</td><td>Active</td><td>2021-03-15</td><td>2024-10-22</td></tr><tr><td>2004</td><td>1003</td><td>ACC1003-SAV</td><td>Savings</td><td>50000.00</td><td>USD</td><td>3.00</td><td>0.00</td><td>Active</td><td>2019-06-20</td><td>2024-10-26</td></tr><tr><td>2005</td><td>1003</td><td>ACC1003-CHK</td><td>Checking</td><td>12000.00</td><td>USD</td><td>0.00</td><td>5000.00</td><td>Active</td><td>2019-06-20</td><td>2024-10-27</td></tr><tr><td>2006</td><td>1003</td><td>ACC1003-FD</td><td>Fixed Deposit</td><td>100000.00</td><td>USD</td><td>5.50</td><td>0.00</td><td>Active</td><td>2019-06-20</td><td>null</td></tr><tr><td>2007</td><td>1004</td><td>ACC1004-CHK</td><td>Checking</td><td>1250.30</td><td>USD</td><td>0.00</td><td>500.00</td><td>Active</td><td>2023-01-05</td><td>2024-10-15</td></tr><tr><td>2008</td><td>1005</td><td>ACC1005-SAV</td><td>Savings</td><td>22000.00</td><td>USD</td><td>2.50</td><td>0.00</td><td>Active</td><td>2022-09-12</td><td>2024-10-28</td></tr><tr><td>2009</td><td>1005</td><td>ACC1005-CHK</td><td>Checking</td><td>-450.00</td><td>USD</td><td>0.00</td><td>1000.00</td><td>Active</td><td>2022-09-12</td><td>2024-10-24</td></tr><tr><td>2010</td><td>1006</td><td>ACC1006-SAV</td><td>Savings</td><td>500.00</td><td>USD</td><td>2.50</td><td>0.00</td><td>Frozen</td><td>2023-05-20</td><td>null</td></tr><tr><td>2011</td><td>1007</td><td>ACC1007-SAV</td><td>Savings</td><td>18500.00</td><td>USD</td><td>2.50</td><td>0.00</td><td>Active</td><td>2020-11-30</td><td>2024-10-21</td></tr><tr><td>2012</td><td>1008</td><td>ACC1008-SAV</td><td>Savings</td><td>0.00</td><td>USD</td><td>2.50</td><td>0.00</td><td>Closed</td><td>2023-08-15</td><td>2023-09-01</td></tr></tbody></table></div>"
      ]
     },
     "metadata": {
      "application/vnd.databricks.v1+output": {
       "addedWidgets": {},
       "aggData": [],
       "aggError": "",
       "aggOverflow": false,
       "aggSchema": [],
       "aggSeriesLimitReached": false,
       "aggType": "",
       "arguments": {},
       "columnCustomDisplayInfos": {},
       "data": [
        [
         2001,
         1001,
         "ACC1001-SAV",
         "Savings",
         "15000.00",
         "USD",
         "2.50",
         "0.00",
         "Active",
         "2020-01-10",
         "2024-10-20"
        ],
        [
         2002,
         1001,
         "ACC1001-CHK",
         "Checking",
         "3500.50",
         "USD",
         "0.00",
         "1000.00",
         "Active",
         "2020-01-10",
         "2024-10-25"
        ],
        [
         2003,
         1002,
         "ACC1002-SAV",
         "Savings",
         "8200.75",
         "USD",
         "2.50",
         "0.00",
         "Active",
         "2021-03-15",
         "2024-10-22"
        ],
        [
         2004,
         1003,
         "ACC1003-SAV",
         "Savings",
         "50000.00",
         "USD",
         "3.00",
         "0.00",
         "Active",
         "2019-06-20",
         "2024-10-26"
        ],
        [
         2005,
         1003,
         "ACC1003-CHK",
         "Checking",
         "12000.00",
         "USD",
         "0.00",
         "5000.00",
         "Active",
         "2019-06-20",
         "2024-10-27"
        ],
        [
         2006,
         1003,
         "ACC1003-FD",
         "Fixed Deposit",
         "100000.00",
         "USD",
         "5.50",
         "0.00",
         "Active",
         "2019-06-20",
         null
        ],
        [
         2007,
         1004,
         "ACC1004-CHK",
         "Checking",
         "1250.30",
         "USD",
         "0.00",
         "500.00",
         "Active",
         "2023-01-05",
         "2024-10-15"
        ],
        [
         2008,
         1005,
         "ACC1005-SAV",
         "Savings",
         "22000.00",
         "USD",
         "2.50",
         "0.00",
         "Active",
         "2022-09-12",
         "2024-10-28"
        ],
        [
         2009,
         1005,
         "ACC1005-CHK",
         "Checking",
         "-450.00",
         "USD",
         "0.00",
         "1000.00",
         "Active",
         "2022-09-12",
         "2024-10-24"
        ],
        [
         2010,
         1006,
         "ACC1006-SAV",
         "Savings",
         "500.00",
         "USD",
         "2.50",
         "0.00",
         "Frozen",
         "2023-05-20",
         null
        ],
        [
         2011,
         1007,
         "ACC1007-SAV",
         "Savings",
         "18500.00",
         "USD",
         "2.50",
         "0.00",
         "Active",
         "2020-11-30",
         "2024-10-21"
        ],
        [
         2012,
         1008,
         "ACC1008-SAV",
         "Savings",
         "0.00",
         "USD",
         "2.50",
         "0.00",
         "Closed",
         "2023-08-15",
         "2023-09-01"
        ],
        [
         2001,
         1001,
         "ACC1001-SAV",
         "Savings",
         "15000.00",
         "USD",
         "2.50",
         "0.00",
         "Active",
         "2020-01-10",
         "2024-10-20"
        ],
        [
         2002,
         1001,
         "ACC1001-CHK",
         "Checking",
         "3500.50",
         "USD",
         "0.00",
         "1000.00",
         "Active",
         "2020-01-10",
         "2024-10-25"
        ],
        [
         2003,
         1002,
         "ACC1002-SAV",
         "Savings",
         "8200.75",
         "USD",
         "2.50",
         "0.00",
         "Active",
         "2021-03-15",
         "2024-10-22"
        ],
        [
         2004,
         1003,
         "ACC1003-SAV",
         "Savings",
         "50000.00",
         "USD",
         "3.00",
         "0.00",
         "Active",
         "2019-06-20",
         "2024-10-26"
        ],
        [
         2005,
         1003,
         "ACC1003-CHK",
         "Checking",
         "12000.00",
         "USD",
         "0.00",
         "5000.00",
         "Active",
         "2019-06-20",
         "2024-10-27"
        ],
        [
         2006,
         1003,
         "ACC1003-FD",
         "Fixed Deposit",
         "100000.00",
         "USD",
         "5.50",
         "0.00",
         "Active",
         "2019-06-20",
         null
        ],
        [
         2007,
         1004,
         "ACC1004-CHK",
         "Checking",
         "1250.30",
         "USD",
         "0.00",
         "500.00",
         "Active",
         "2023-01-05",
         "2024-10-15"
        ],
        [
         2008,
         1005,
         "ACC1005-SAV",
         "Savings",
         "22000.00",
         "USD",
         "2.50",
         "0.00",
         "Active",
         "2022-09-12",
         "2024-10-28"
        ],
        [
         2009,
         1005,
         "ACC1005-CHK",
         "Checking",
         "-450.00",
         "USD",
         "0.00",
         "1000.00",
         "Active",
         "2022-09-12",
         "2024-10-24"
        ],
        [
         2010,
         1006,
         "ACC1006-SAV",
         "Savings",
         "500.00",
         "USD",
         "2.50",
         "0.00",
         "Frozen",
         "2023-05-20",
         null
        ],
        [
         2011,
         1007,
         "ACC1007-SAV",
         "Savings",
         "18500.00",
         "USD",
         "2.50",
         "0.00",
         "Active",
         "2020-11-30",
         "2024-10-21"
        ],
        [
         2012,
         1008,
         "ACC1008-SAV",
         "Savings",
         "0.00",
         "USD",
         "2.50",
         "0.00",
         "Closed",
         "2023-08-15",
         "2023-09-01"
        ]
       ],
       "datasetInfos": [
        {
         "name": "_sqldf",
         "schema": {
          "fields": [
           {
            "metadata": {},
            "name": "account_id",
            "nullable": false,
            "type": "integer"
           },
           {
            "metadata": {},
            "name": "customer_id",
            "nullable": false,
            "type": "integer"
           },
           {
            "metadata": {},
            "name": "account_number",
            "nullable": false,
            "type": "string"
           },
           {
            "metadata": {},
            "name": "account_type",
            "nullable": false,
            "type": "string"
           },
           {
            "metadata": {},
            "name": "balance",
            "nullable": false,
            "type": "decimal(10,2)"
           },
           {
            "metadata": {},
            "name": "currency",
            "nullable": true,
            "type": "string"
           },
           {
            "metadata": {},
            "name": "INTEREST_RATE",
            "nullable": true,
            "type": "decimal(5,2)"
           },
           {
            "metadata": {},
            "name": "overdraft_limit",
            "nullable": true,
            "type": "decimal(10,2)"
           },
           {
            "metadata": {},
            "name": "status",
            "nullable": true,
            "type": "string"
           },
           {
            "metadata": {},
            "name": "opened_date",
            "nullable": true,
            "type": "date"
           },
           {
            "metadata": {},
            "name": "last_transaction_date",
            "nullable": true,
            "type": "date"
           }
          ],
          "type": "struct"
         },
         "tableIdentifier": null,
         "typeStr": "pyspark.sql.connect.dataframe.DataFrame"
        }
       ],
       "dbfsResultPath": null,
       "isJsonSchema": true,
       "metadata": {
        "createTempViewForImplicitDf": true,
        "dataframeName": "_sqldf",
        "executionCount": 7
       },
       "overflow": false,
       "plotOptions": {
        "customPlotOptions": {},
        "displayType": "table",
        "pivotAggregation": null,
        "pivotColumns": null,
        "xColumns": null,
        "yColumns": null
       },
       "removedWidgets": [],
       "schema": [
        {
         "metadata": "{}",
         "name": "account_id",
         "type": "\"integer\""
        },
        {
         "metadata": "{}",
         "name": "customer_id",
         "type": "\"integer\""
        },
        {
         "metadata": "{}",
         "name": "account_number",
         "type": "\"string\""
        },
        {
         "metadata": "{}",
         "name": "account_type",
         "type": "\"string\""
        },
        {
         "metadata": "{}",
         "name": "balance",
         "type": "\"decimal(10,2)\""
        },
        {
         "metadata": "{}",
         "name": "currency",
         "type": "\"string\""
        },
        {
         "metadata": "{}",
         "name": "INTEREST_RATE",
         "type": "\"decimal(5,2)\""
        },
        {
         "metadata": "{}",
         "name": "overdraft_limit",
         "type": "\"decimal(10,2)\""
        },
        {
         "metadata": "{}",
         "name": "status",
         "type": "\"string\""
        },
        {
         "metadata": "{}",
         "name": "opened_date",
         "type": "\"date\""
        },
        {
         "metadata": "{}",
         "name": "last_transaction_date",
         "type": "\"date\""
        }
       ],
       "type": "table"
      }
     },
     "output_type": "display_data"
    }
   ],
   "source": [
    "-- =====================================================\n",
    "-- INSERT ACCOUNTS DATA\n",
    "-- =====================================================\n",
    "\n",
    "INSERT INTO accounts (account_id, customer_id, account_number, account_type, balance, currency, interest_rate, overdraft_limit, status, opened_date, last_transaction_date)\n",
    "VALUES\n",
    "-- Customer 1001 has 2 accounts\n",
    "(2001, 1001, 'ACC1001-SAV', 'Savings', 15000.00, 'USD', 2.50, 0.00, 'Active', DATE('2020-01-10'), DATE('2024-10-20')),\n",
    "(2002, 1001, 'ACC1001-CHK', 'Checking', 3500.50, 'USD', 0.00, 1000.00, 'Active', DATE('2020-01-10'), DATE('2024-10-25')),\n",
    "\n",
    "-- Customer 1002 has 1 account\n",
    "(2003, 1002, 'ACC1002-SAV', 'Savings', 8200.75, 'USD', 2.50, 0.00, 'Active', DATE('2021-03-15'), DATE('2024-10-22')),\n",
    "\n",
    "-- Customer 1003 has 3 accounts (VIP customer)\n",
    "(2004, 1003, 'ACC1003-SAV', 'Savings', 50000.00, 'USD', 3.00, 0.00, 'Active', DATE('2019-06-20'), DATE('2024-10-26')),\n",
    "(2005, 1003, 'ACC1003-CHK', 'Checking', 12000.00, 'USD', 0.00, 5000.00, 'Active', DATE('2019-06-20'), DATE('2024-10-27')),\n",
    "(2006, 1003, 'ACC1003-FD', 'Fixed Deposit', 100000.00, 'USD', 5.50, 0.00, 'Active', DATE('2019-06-20'), NULL),\n",
    "\n",
    "-- Customer 1004 has 1 account\n",
    "(2007, 1004, 'ACC1004-CHK', 'Checking', 1250.30, 'USD', 0.00, 500.00, 'Active', DATE('2023-01-05'), DATE('2024-10-15')),\n",
    "\n",
    "-- Customer 1005 has 2 accounts\n",
    "(2008, 1005, 'ACC1005-SAV', 'Savings', 22000.00, 'USD', 2.50, 0.00, 'Active', DATE('2022-09-12'), DATE('2024-10-28')),\n",
    "(2009, 1005, 'ACC1005-CHK', 'Checking', -450.00, 'USD', 0.00, 1000.00, 'Active', DATE('2022-09-12'), DATE('2024-10-24')),\n",
    "\n",
    "-- Customer 1006 has 1 account (KYC Pending)\n",
    "(2010, 1006, 'ACC1006-SAV', 'Savings', 500.00, 'USD', 2.50, 0.00, 'Frozen', DATE('2023-05-20'), NULL),\n",
    "\n",
    "-- Customer 1007 has 1 account\n",
    "(2011, 1007, 'ACC1007-SAV', 'Savings', 18500.00, 'USD', 2.50, 0.00, 'Active', DATE('2020-11-30'), DATE('2024-10-21')),\n",
    "\n",
    "-- Customer 1008 has 1 closed account (KYC Rejected)\n",
    "(2012, 1008, 'ACC1008-SAV', 'Savings', 0.00, 'USD', 2.50, 0.00, 'Closed', DATE('2023-08-15'), DATE('2023-09-01'));\n",
    "\n",
    "-- Verify\n",
    "SELECT COUNT(*) AS total_accounts FROM accounts;\n",
    "SELECT * FROM accounts;"
   ]
  },
  {
   "cell_type": "code",
   "execution_count": 0,
   "metadata": {
    "application/vnd.databricks.v1+cell": {
     "cellMetadata": {
      "byteLimit": 2048000,
      "rowLimit": 10000
     },
     "inputWidgets": {},
     "nuid": "87051e6e-2313-4ec5-9b57-c02ab38b1fb1",
     "showTitle": false,
     "tableResultSettingsMap": {},
     "title": ""
    }
   },
   "outputs": [
    {
     "output_type": "display_data",
     "data": {
      "text/html": [
       "<style scoped>\n",
       "  .table-result-container {\n",
       "    max-height: 300px;\n",
       "    overflow: auto;\n",
       "  }\n",
       "  table, th, td {\n",
       "    border: 1px solid black;\n",
       "    border-collapse: collapse;\n",
       "  }\n",
       "  th, td {\n",
       "    padding: 5px;\n",
       "  }\n",
       "  th {\n",
       "    text-align: left;\n",
       "  }\n",
       "</style><div class='table-result-container'><table class='table-result'><thead style='background-color: white'><tr><th>transaction_id</th><th>account_id</th><th>transaction_type</th><th>amount</th><th>transaction_date</th><th>description</th><th>status</th><th>reference_number</th></tr></thead><tbody><tr><td>3001</td><td>2001</td><td>Deposit</td><td>5000.00</td><td>2024-10-01T09:30:00.000Z</td><td>Salary deposit</td><td>Completed</td><td>TXN2024100001</td></tr><tr><td>3002</td><td>2001</td><td>Withdrawal</td><td>2000.00</td><td>2024-10-05T14:20:00.000Z</td><td>ATM withdrawal</td><td>Completed</td><td>TXN2024100002</td></tr><tr><td>3003</td><td>2001</td><td>Interest</td><td>25.50</td><td>2024-10-20T00:00:00.000Z</td><td>Monthly interest credit</td><td>Completed</td><td>TXN2024100003</td></tr><tr><td>3004</td><td>2002</td><td>Deposit</td><td>3000.00</td><td>2024-10-10T10:15:00.000Z</td><td>Cash deposit</td><td>Completed</td><td>TXN2024100004</td></tr><tr><td>3005</td><td>2002</td><td>Withdrawal</td><td>500.00</td><td>2024-10-15T16:45:00.000Z</td><td>Bill payment</td><td>Completed</td><td>TXN2024100005</td></tr><tr><td>3006</td><td>2002</td><td>Fee</td><td>15.00</td><td>2024-10-25T00:00:00.000Z</td><td>Monthly maintenance fee</td><td>Completed</td><td>TXN2024100006</td></tr><tr><td>3007</td><td>2003</td><td>Deposit</td><td>8000.00</td><td>2024-09-15T11:00:00.000Z</td><td>Initial deposit</td><td>Completed</td><td>TXN2024090001</td></tr><tr><td>3008</td><td>2003</td><td>Withdrawal</td><td>500.00</td><td>2024-10-10T13:30:00.000Z</td><td>ATM withdrawal</td><td>Completed</td><td>TXN2024100007</td></tr><tr><td>3009</td><td>2004</td><td>Deposit</td><td>50000.00</td><td>2024-10-01T08:00:00.000Z</td><td>Wire transfer</td><td>Completed</td><td>TXN2024100008</td></tr><tr><td>3010</td><td>2004</td><td>Withdrawal</td><td>10000.00</td><td>2024-10-15T10:30:00.000Z</td><td>Investment withdrawal</td><td>Completed</td><td>TXN2024100009</td></tr></tbody></table></div>"
      ]
     },
     "metadata": {
      "application/vnd.databricks.v1+output": {
       "addedWidgets": {},
       "aggData": [],
       "aggError": "",
       "aggOverflow": false,
       "aggSchema": [],
       "aggSeriesLimitReached": false,
       "aggType": "",
       "arguments": {},
       "columnCustomDisplayInfos": {},
       "data": [
        [
         3001,
         2001,
         "Deposit",
         "5000.00",
         "2024-10-01T09:30:00.000Z",
         "Salary deposit",
         "Completed",
         "TXN2024100001"
        ],
        [
         3002,
         2001,
         "Withdrawal",
         "2000.00",
         "2024-10-05T14:20:00.000Z",
         "ATM withdrawal",
         "Completed",
         "TXN2024100002"
        ],
        [
         3003,
         2001,
         "Interest",
         "25.50",
         "2024-10-20T00:00:00.000Z",
         "Monthly interest credit",
         "Completed",
         "TXN2024100003"
        ],
        [
         3004,
         2002,
         "Deposit",
         "3000.00",
         "2024-10-10T10:15:00.000Z",
         "Cash deposit",
         "Completed",
         "TXN2024100004"
        ],
        [
         3005,
         2002,
         "Withdrawal",
         "500.00",
         "2024-10-15T16:45:00.000Z",
         "Bill payment",
         "Completed",
         "TXN2024100005"
        ],
        [
         3006,
         2002,
         "Fee",
         "15.00",
         "2024-10-25T00:00:00.000Z",
         "Monthly maintenance fee",
         "Completed",
         "TXN2024100006"
        ],
        [
         3007,
         2003,
         "Deposit",
         "8000.00",
         "2024-09-15T11:00:00.000Z",
         "Initial deposit",
         "Completed",
         "TXN2024090001"
        ],
        [
         3008,
         2003,
         "Withdrawal",
         "500.00",
         "2024-10-10T13:30:00.000Z",
         "ATM withdrawal",
         "Completed",
         "TXN2024100007"
        ],
        [
         3009,
         2004,
         "Deposit",
         "50000.00",
         "2024-10-01T08:00:00.000Z",
         "Wire transfer",
         "Completed",
         "TXN2024100008"
        ],
        [
         3010,
         2004,
         "Withdrawal",
         "10000.00",
         "2024-10-15T10:30:00.000Z",
         "Investment withdrawal",
         "Completed",
         "TXN2024100009"
        ]
       ],
       "datasetInfos": [
        {
         "name": "_sqldf",
         "schema": {
          "fields": [
           {
            "metadata": {},
            "name": "transaction_id",
            "nullable": false,
            "type": "integer"
           },
           {
            "metadata": {},
            "name": "account_id",
            "nullable": false,
            "type": "integer"
           },
           {
            "metadata": {},
            "name": "transaction_type",
            "nullable": false,
            "type": "string"
           },
           {
            "metadata": {},
            "name": "amount",
            "nullable": false,
            "type": "decimal(12,2)"
           },
           {
            "metadata": {},
            "name": "transaction_date",
            "nullable": true,
            "type": "timestamp"
           },
           {
            "metadata": {},
            "name": "description",
            "nullable": true,
            "type": "string"
           },
           {
            "metadata": {},
            "name": "status",
            "nullable": true,
            "type": "string"
           },
           {
            "metadata": {},
            "name": "reference_number",
            "nullable": true,
            "type": "string"
           }
          ],
          "type": "struct"
         },
         "tableIdentifier": null,
         "typeStr": "pyspark.sql.connect.dataframe.DataFrame"
        }
       ],
       "dbfsResultPath": null,
       "isJsonSchema": true,
       "metadata": {
        "createTempViewForImplicitDf": true,
        "dataframeName": "_sqldf",
        "executionCount": 8
       },
       "overflow": false,
       "plotOptions": {
        "customPlotOptions": {},
        "displayType": "table",
        "pivotAggregation": null,
        "pivotColumns": null,
        "xColumns": null,
        "yColumns": null
       },
       "removedWidgets": [],
       "schema": [
        {
         "metadata": "{}",
         "name": "transaction_id",
         "type": "\"integer\""
        },
        {
         "metadata": "{}",
         "name": "account_id",
         "type": "\"integer\""
        },
        {
         "metadata": "{}",
         "name": "transaction_type",
         "type": "\"string\""
        },
        {
         "metadata": "{}",
         "name": "amount",
         "type": "\"decimal(12,2)\""
        },
        {
         "metadata": "{}",
         "name": "transaction_date",
         "type": "\"timestamp\""
        },
        {
         "metadata": "{}",
         "name": "description",
         "type": "\"string\""
        },
        {
         "metadata": "{}",
         "name": "status",
         "type": "\"string\""
        },
        {
         "metadata": "{}",
         "name": "reference_number",
         "type": "\"string\""
        }
       ],
       "type": "table"
      }
     },
     "output_type": "display_data"
    }
   ],
   "source": [
    "-- =====================================================\n",
    "-- INSERT TRANSACTIONS DATA\n",
    "-- =====================================================\n",
    "\n",
    "INSERT INTO transactions (transaction_id, account_id, transaction_type, amount, transaction_date, description, status, reference_number)\n",
    "VALUES\n",
    "-- Account 2001 transactions (Savings)\n",
    "(3001, 2001, 'Deposit', 5000.00, TIMESTAMP('2024-10-01 09:30:00'), 'Salary deposit', 'Completed', 'TXN2024100001'),\n",
    "(3002, 2001, 'Withdrawal', 2000.00, TIMESTAMP('2024-10-05 14:20:00'), 'ATM withdrawal', 'Completed', 'TXN2024100002'),\n",
    "(3003, 2001, 'Interest', 25.50, TIMESTAMP('2024-10-20 00:00:00'), 'Monthly interest credit', 'Completed', 'TXN2024100003'),\n",
    "\n",
    "-- Account 2002 transactions (Checking)\n",
    "(3004, 2002, 'Deposit', 3000.00, TIMESTAMP('2024-10-10 10:15:00'), 'Cash deposit', 'Completed', 'TXN2024100004'),\n",
    "(3005, 2002, 'Withdrawal', 500.00, TIMESTAMP('2024-10-15 16:45:00'), 'Bill payment', 'Completed', 'TXN2024100005'),\n",
    "(3006, 2002, 'Fee', 15.00, TIMESTAMP('2024-10-25 00:00:00'), 'Monthly maintenance fee', 'Completed', 'TXN2024100006'),\n",
    "\n",
    "-- Account 2003 transactions\n",
    "(3007, 2003, 'Deposit', 8000.00, TIMESTAMP('2024-09-15 11:00:00'), 'Initial deposit', 'Completed', 'TXN2024090001'),\n",
    "(3008, 2003, 'Withdrawal', 500.00, TIMESTAMP('2024-10-10 13:30:00'), 'ATM withdrawal', 'Completed', 'TXN2024100007'),\n",
    "\n",
    "-- Account 2004 transactions (VIP - large amounts)\n",
    "(3009, 2004, 'Deposit', 50000.00, TIMESTAMP('2024-10-01 08:00:00'), 'Wire transfer', 'Completed', 'TXN2024100008'),\n",
    "(3010, 2004, 'Withdrawal', 10000.00, TIMESTAMP('2024-10-15 10:30:00'), 'Investment withdrawal', 'Completed', 'TXN2024100009'),\n",
    "\n",
    "-- Account 2005 transactions\n",
    "(3011, 2005, 'Deposit', 12000.00, TIMESTAMP('2024-10-20 09:00:00'), 'Business income', 'Completed', 'TXN2024100010'),\n",
    "\n",
    "-- Account 2007 transactions\n",
    "(3012, 2007, 'Deposit', 1500.00, TIMESTAMP('2024-10-05 12:00:00'), 'Salary deposit', 'Completed', 'TXN2024100011'),\n",
    "(3013, 2007, 'Withdrawal', 250.00, TIMESTAMP('2024-10-15 15:30:00'), 'Shopping', 'Completed', 'TXN2024100012'),\n",
    "\n",
    "-- Account 2009 transactions (Overdraft scenario)\n",
    "(3014, 2009, 'Deposit', 1000.00, TIMESTAMP('2024-10-01 10:00:00'), 'Salary deposit', 'Completed', 'TXN2024100013'),\n",
    "(3015, 2009, 'Withdrawal', 1450.00, TIMESTAMP('2024-10-24 14:00:00'), 'Emergency withdrawal', 'Completed', 'TXN2024100014'),\n",
    "\n",
    "-- Failed transaction example\n",
    "(3016, 2003, 'Withdrawal', 10000.00, TIMESTAMP('2024-10-22 16:00:00'), 'Large withdrawal attempt', 'Failed', 'TXN2024100015'),\n",
    "\n",
    "-- Pending transaction example\n",
    "(3017, 2008, 'Deposit', 5000.00, TIMESTAMP('2024-10-28 17:00:00'), 'Check deposit pending clearance', 'Pending', 'TXN2024100016');\n",
    "\n",
    "-- Verify\n",
    "SELECT COUNT(*) AS total_transactions FROM transactions;\n",
    "SELECT * FROM transactions LIMIT 10;"
   ]
  },
  {
   "cell_type": "markdown",
   "metadata": {
    "application/vnd.databricks.v1+cell": {
     "cellMetadata": {},
     "inputWidgets": {},
     "nuid": "3f871b39-8807-4189-a4b8-d1e0181de05e",
     "showTitle": false,
     "tableResultSettingsMap": {},
     "title": ""
    }
   },
   "source": [
    "**PART 4: UPDATE OPERATIONS**"
   ]
  },
  {
   "cell_type": "code",
   "execution_count": 0,
   "metadata": {
    "application/vnd.databricks.v1+cell": {
     "cellMetadata": {
      "byteLimit": 2048000,
      "rowLimit": 10000
     },
     "inputWidgets": {},
     "nuid": "f3aa9ab8-88bb-4329-ab32-b89f5179b5a4",
     "showTitle": false,
     "tableResultSettingsMap": {},
     "title": ""
    }
   },
   "outputs": [
    {
     "output_type": "display_data",
     "data": {
      "text/html": [
       "<style scoped>\n",
       "  .table-result-container {\n",
       "    max-height: 300px;\n",
       "    overflow: auto;\n",
       "  }\n",
       "  table, th, td {\n",
       "    border: 1px solid black;\n",
       "    border-collapse: collapse;\n",
       "  }\n",
       "  th, td {\n",
       "    padding: 5px;\n",
       "  }\n",
       "  th {\n",
       "    text-align: left;\n",
       "  }\n",
       "</style><div class='table-result-container'><table class='table-result'><thead style='background-color: white'><tr><th>customer_id</th><th>first_name</th><th>last_name</th><th>phone</th></tr></thead><tbody><tr><td>1004</td><td>Emily</td><td>Rodriguez</td><td>555-1004</td></tr><tr><td>1004</td><td>Emily</td><td>Rodriguez</td><td>555-1004</td></tr></tbody></table></div>"
      ]
     },
     "metadata": {
      "application/vnd.databricks.v1+output": {
       "addedWidgets": {},
       "aggData": [],
       "aggError": "",
       "aggOverflow": false,
       "aggSchema": [],
       "aggSeriesLimitReached": false,
       "aggType": "",
       "arguments": {},
       "columnCustomDisplayInfos": {},
       "data": [
        [
         1004,
         "Emily",
         "Rodriguez",
         "555-1004"
        ],
        [
         1004,
         "Emily",
         "Rodriguez",
         "555-1004"
        ]
       ],
       "datasetInfos": [
        {
         "name": "_sqldf",
         "schema": {
          "fields": [
           {
            "metadata": {},
            "name": "customer_id",
            "nullable": false,
            "type": "integer"
           },
           {
            "metadata": {},
            "name": "first_name",
            "nullable": false,
            "type": "string"
           },
           {
            "metadata": {},
            "name": "last_name",
            "nullable": false,
            "type": "string"
           },
           {
            "metadata": {},
            "name": "phone",
            "nullable": true,
            "type": "string"
           }
          ],
          "type": "struct"
         },
         "tableIdentifier": null,
         "typeStr": "pyspark.sql.connect.dataframe.DataFrame"
        }
       ],
       "dbfsResultPath": null,
       "isJsonSchema": true,
       "metadata": {
        "createTempViewForImplicitDf": true,
        "dataframeName": "_sqldf",
        "executionCount": 9
       },
       "overflow": false,
       "plotOptions": {
        "customPlotOptions": {},
        "displayType": "table",
        "pivotAggregation": null,
        "pivotColumns": null,
        "xColumns": null,
        "yColumns": null
       },
       "removedWidgets": [],
       "schema": [
        {
         "metadata": "{}",
         "name": "customer_id",
         "type": "\"integer\""
        },
        {
         "metadata": "{}",
         "name": "first_name",
         "type": "\"string\""
        },
        {
         "metadata": "{}",
         "name": "last_name",
         "type": "\"string\""
        },
        {
         "metadata": "{}",
         "name": "phone",
         "type": "\"string\""
        }
       ],
       "type": "table"
      }
     },
     "output_type": "display_data"
    }
   ],
   "source": [
    "-- Different tyoes of UPDATE Statements\n",
    "-- UPDATE 1: Simple update - Change single column\n",
    "-- Scenario: Customer phone number changed\n",
    "\n",
    "UPDATE customers\n",
    "set phone = '555-1004'\n",
    "where customer_id = 1004;\n",
    "\n",
    "-- Verify the change\n",
    "select customer_id, first_name, last_name, phone\n",
    "from customers\n",
    "where customer_id = 1004;"
   ]
  },
  {
   "cell_type": "code",
   "execution_count": 0,
   "metadata": {
    "application/vnd.databricks.v1+cell": {
     "cellMetadata": {
      "byteLimit": 2048000,
      "rowLimit": 10000
     },
     "inputWidgets": {},
     "nuid": "2e6504c5-b582-492b-a8ad-ec4bdb1b1669",
     "showTitle": false,
     "tableResultSettingsMap": {},
     "title": ""
    }
   },
   "outputs": [
    {
     "output_type": "display_data",
     "data": {
      "text/html": [
       "<style scoped>\n",
       "  .table-result-container {\n",
       "    max-height: 300px;\n",
       "    overflow: auto;\n",
       "  }\n",
       "  table, th, td {\n",
       "    border: 1px solid black;\n",
       "    border-collapse: collapse;\n",
       "  }\n",
       "  th, td {\n",
       "    padding: 5px;\n",
       "  }\n",
       "  th {\n",
       "    text-align: left;\n",
       "  }\n",
       "</style><div class='table-result-container'><table class='table-result'><thead style='background-color: white'><tr><th>customer_id</th><th>first_name</th><th>last_name</th><th>address</th><th>city</th><th>state</th></tr></thead><tbody><tr><td>1002</td><td>Sarah</td><td>Mitchell</td><td>150 New Street</td><td>Boston</td><td>MA</td></tr><tr><td>1002</td><td>Sarah</td><td>Mitchell</td><td>150 New Street</td><td>Boston</td><td>MA</td></tr></tbody></table></div>"
      ]
     },
     "metadata": {
      "application/vnd.databricks.v1+output": {
       "addedWidgets": {},
       "aggData": [],
       "aggError": "",
       "aggOverflow": false,
       "aggSchema": [],
       "aggSeriesLimitReached": false,
       "aggType": "",
       "arguments": {},
       "columnCustomDisplayInfos": {},
       "data": [
        [
         1002,
         "Sarah",
         "Mitchell",
         "150 New Street",
         "Boston",
         "MA"
        ],
        [
         1002,
         "Sarah",
         "Mitchell",
         "150 New Street",
         "Boston",
         "MA"
        ]
       ],
       "datasetInfos": [
        {
         "name": "_sqldf",
         "schema": {
          "fields": [
           {
            "metadata": {},
            "name": "customer_id",
            "nullable": false,
            "type": "integer"
           },
           {
            "metadata": {},
            "name": "first_name",
            "nullable": false,
            "type": "string"
           },
           {
            "metadata": {},
            "name": "last_name",
            "nullable": false,
            "type": "string"
           },
           {
            "metadata": {},
            "name": "address",
            "nullable": true,
            "type": "string"
           },
           {
            "metadata": {},
            "name": "city",
            "nullable": true,
            "type": "string"
           },
           {
            "metadata": {},
            "name": "state",
            "nullable": true,
            "type": "string"
           }
          ],
          "type": "struct"
         },
         "tableIdentifier": null,
         "typeStr": "pyspark.sql.connect.dataframe.DataFrame"
        }
       ],
       "dbfsResultPath": null,
       "isJsonSchema": true,
       "metadata": {
        "createTempViewForImplicitDf": true,
        "dataframeName": "_sqldf",
        "executionCount": 10
       },
       "overflow": false,
       "plotOptions": {
        "customPlotOptions": {},
        "displayType": "table",
        "pivotAggregation": null,
        "pivotColumns": null,
        "xColumns": null,
        "yColumns": null
       },
       "removedWidgets": [],
       "schema": [
        {
         "metadata": "{}",
         "name": "customer_id",
         "type": "\"integer\""
        },
        {
         "metadata": "{}",
         "name": "first_name",
         "type": "\"string\""
        },
        {
         "metadata": "{}",
         "name": "last_name",
         "type": "\"string\""
        },
        {
         "metadata": "{}",
         "name": "address",
         "type": "\"string\""
        },
        {
         "metadata": "{}",
         "name": "city",
         "type": "\"string\""
        },
        {
         "metadata": "{}",
         "name": "state",
         "type": "\"string\""
        }
       ],
       "type": "table"
      }
     },
     "output_type": "display_data"
    }
   ],
   "source": [
    "-- Update multiple columns at once\n",
    "-- Scenario: Customer moved to new address\n",
    "\n",
    "update customers\n",
    "set address = '150 New Street',\n",
    "    city = 'Boston',\n",
    "    state = 'MA'\n",
    "where customer_id = 1002;\n",
    "\n",
    "-- Verify \n",
    "select customer_id, first_name, last_name, address, city, state   \n",
    "from customers\n",
    "where customer_id = 1002;"
   ]
  },
  {
   "cell_type": "code",
   "execution_count": 0,
   "metadata": {
    "application/vnd.databricks.v1+cell": {
     "cellMetadata": {
      "byteLimit": 2048000,
      "rowLimit": 10000
     },
     "inputWidgets": {},
     "nuid": "d44a9b15-6b75-4e6a-a9ed-488da02b079c",
     "showTitle": false,
     "tableResultSettingsMap": {},
     "title": ""
    }
   },
   "outputs": [
    {
     "output_type": "display_data",
     "data": {
      "text/html": [
       "<style scoped>\n",
       "  .table-result-container {\n",
       "    max-height: 300px;\n",
       "    overflow: auto;\n",
       "  }\n",
       "  table, th, td {\n",
       "    border: 1px solid black;\n",
       "    border-collapse: collapse;\n",
       "  }\n",
       "  th, td {\n",
       "    padding: 5px;\n",
       "  }\n",
       "  th {\n",
       "    text-align: left;\n",
       "  }\n",
       "</style><div class='table-result-container'><table class='table-result'><thead style='background-color: white'><tr><th>customer_id</th><th>first_name</th><th>last_name</th><th>kyc_status</th></tr></thead><tbody><tr><td>1006</td><td>Lisa</td><td>Johnson</td><td>Verified</td></tr><tr><td>1006</td><td>Lisa</td><td>Johnson</td><td>Verified</td></tr></tbody></table></div>"
      ]
     },
     "metadata": {
      "application/vnd.databricks.v1+output": {
       "addedWidgets": {},
       "aggData": [],
       "aggError": "",
       "aggOverflow": false,
       "aggSchema": [],
       "aggSeriesLimitReached": false,
       "aggType": "",
       "arguments": {},
       "columnCustomDisplayInfos": {},
       "data": [
        [
         1006,
         "Lisa",
         "Johnson",
         "Verified"
        ],
        [
         1006,
         "Lisa",
         "Johnson",
         "Verified"
        ]
       ],
       "datasetInfos": [
        {
         "name": "_sqldf",
         "schema": {
          "fields": [
           {
            "metadata": {},
            "name": "customer_id",
            "nullable": false,
            "type": "integer"
           },
           {
            "metadata": {},
            "name": "first_name",
            "nullable": false,
            "type": "string"
           },
           {
            "metadata": {},
            "name": "last_name",
            "nullable": false,
            "type": "string"
           },
           {
            "metadata": {},
            "name": "kyc_status",
            "nullable": true,
            "type": "string"
           }
          ],
          "type": "struct"
         },
         "tableIdentifier": null,
         "typeStr": "pyspark.sql.connect.dataframe.DataFrame"
        }
       ],
       "dbfsResultPath": null,
       "isJsonSchema": true,
       "metadata": {
        "createTempViewForImplicitDf": true,
        "dataframeName": "_sqldf",
        "executionCount": 12
       },
       "overflow": false,
       "plotOptions": {
        "customPlotOptions": {},
        "displayType": "table",
        "pivotAggregation": null,
        "pivotColumns": null,
        "xColumns": null,
        "yColumns": null
       },
       "removedWidgets": [],
       "schema": [
        {
         "metadata": "{}",
         "name": "customer_id",
         "type": "\"integer\""
        },
        {
         "metadata": "{}",
         "name": "first_name",
         "type": "\"string\""
        },
        {
         "metadata": "{}",
         "name": "last_name",
         "type": "\"string\""
        },
        {
         "metadata": "{}",
         "name": "kyc_status",
         "type": "\"string\""
        }
       ],
       "type": "table"
      }
     },
     "output_type": "display_data"
    }
   ],
   "source": [
    "-- UPDATE 3: Conditional update with WHERE\n",
    "-- Scenario: Approve all pending KYC for customers with verified email\n",
    "\n",
    "update customers\n",
    "set kyc_status = 'Verified'\n",
    "where kyc_status = 'Pending'\n",
    " and email is not null;\n",
    "\n",
    " --Verify\n",
    " select customer_id, first_name, last_name, kyc_status\n",
    " from customers\n",
    " where customer_id = 1006;\n",
    "\n"
   ]
  },
  {
   "cell_type": "code",
   "execution_count": 0,
   "metadata": {
    "application/vnd.databricks.v1+cell": {
     "cellMetadata": {
      "byteLimit": 2048000,
      "rowLimit": 10000
     },
     "inputWidgets": {},
     "nuid": "ca699c9c-2338-4e36-a331-b182ffa4a44e",
     "showTitle": false,
     "tableResultSettingsMap": {},
     "title": ""
    }
   },
   "outputs": [
    {
     "output_type": "display_data",
     "data": {
      "text/html": [
       "<style scoped>\n",
       "  .table-result-container {\n",
       "    max-height: 300px;\n",
       "    overflow: auto;\n",
       "  }\n",
       "  table, th, td {\n",
       "    border: 1px solid black;\n",
       "    border-collapse: collapse;\n",
       "  }\n",
       "  th, td {\n",
       "    padding: 5px;\n",
       "  }\n",
       "  th {\n",
       "    text-align: left;\n",
       "  }\n",
       "</style><div class='table-result-container'><table class='table-result'><thead style='background-color: white'><tr><th>num_affected_rows</th></tr></thead><tbody><tr><td>10</td></tr></tbody></table></div>"
      ]
     },
     "metadata": {
      "application/vnd.databricks.v1+output": {
       "addedWidgets": {},
       "aggData": [],
       "aggError": "",
       "aggOverflow": false,
       "aggSchema": [],
       "aggSeriesLimitReached": false,
       "aggType": "",
       "arguments": {},
       "columnCustomDisplayInfos": {},
       "data": [
        [
         10
        ]
       ],
       "datasetInfos": [
        {
         "name": "_sqldf",
         "schema": {
          "fields": [
           {
            "metadata": {},
            "name": "num_affected_rows",
            "nullable": true,
            "type": "long"
           }
          ],
          "type": "struct"
         },
         "tableIdentifier": null,
         "typeStr": "pyspark.sql.connect.dataframe.DataFrame"
        }
       ],
       "dbfsResultPath": null,
       "isJsonSchema": true,
       "metadata": {
        "createTempViewForImplicitDf": true,
        "dataframeName": "_sqldf",
        "executionCount": 22
       },
       "overflow": false,
       "plotOptions": {
        "customPlotOptions": {},
        "displayType": "table",
        "pivotAggregation": null,
        "pivotColumns": null,
        "xColumns": null,
        "yColumns": null
       },
       "removedWidgets": [],
       "schema": [
        {
         "metadata": "{}",
         "name": "num_affected_rows",
         "type": "\"long\""
        }
       ],
       "type": "table"
      }
     },
     "output_type": "display_data"
    }
   ],
   "source": [
    "-- Update with calculation\n",
    "-- Scenario: Add $100 bonus to all Premium customers\n",
    "\n",
    "update accounts\n",
    "set balance = balance + 100\n",
    "where customer_id in (\n",
    "  select customer_id\n",
    "  from customers\n",
    "  where customer_type = 'Premium'\n",
    ");\n"
   ]
  },
  {
   "cell_type": "code",
   "execution_count": 0,
   "metadata": {
    "application/vnd.databricks.v1+cell": {
     "cellMetadata": {
      "byteLimit": 2048000,
      "rowLimit": 10000
     },
     "inputWidgets": {},
     "nuid": "31ee1f88-4ed5-4d5e-b096-3b11a29eddb4",
     "showTitle": false,
     "tableResultSettingsMap": {},
     "title": ""
    }
   },
   "outputs": [
    {
     "output_type": "display_data",
     "data": {
      "text/html": [
       "<style scoped>\n",
       "  .table-result-container {\n",
       "    max-height: 300px;\n",
       "    overflow: auto;\n",
       "  }\n",
       "  table, th, td {\n",
       "    border: 1px solid black;\n",
       "    border-collapse: collapse;\n",
       "  }\n",
       "  th, td {\n",
       "    padding: 5px;\n",
       "  }\n",
       "  th {\n",
       "    text-align: left;\n",
       "  }\n",
       "</style><div class='table-result-container'><table class='table-result'><thead style='background-color: white'><tr><th>account_id</th><th>account_number</th><th>balance</th><th>customer_type</th></tr></thead><tbody><tr><td>2001</td><td>ACC1001-SAV</td><td>15100.00</td><td>Premium</td></tr><tr><td>2002</td><td>ACC1001-CHK</td><td>3600.50</td><td>Premium</td></tr><tr><td>2008</td><td>ACC1005-SAV</td><td>22100.00</td><td>Premium</td></tr><tr><td>2009</td><td>ACC1005-CHK</td><td>-350.00</td><td>Premium</td></tr><tr><td>2011</td><td>ACC1007-SAV</td><td>18600.00</td><td>Premium</td></tr><tr><td>2001</td><td>ACC1001-SAV</td><td>15100.00</td><td>Premium</td></tr><tr><td>2002</td><td>ACC1001-CHK</td><td>3600.50</td><td>Premium</td></tr><tr><td>2008</td><td>ACC1005-SAV</td><td>22100.00</td><td>Premium</td></tr><tr><td>2009</td><td>ACC1005-CHK</td><td>-350.00</td><td>Premium</td></tr><tr><td>2011</td><td>ACC1007-SAV</td><td>18600.00</td><td>Premium</td></tr><tr><td>2001</td><td>ACC1001-SAV</td><td>15100.00</td><td>Premium</td></tr><tr><td>2002</td><td>ACC1001-CHK</td><td>3600.50</td><td>Premium</td></tr><tr><td>2008</td><td>ACC1005-SAV</td><td>22100.00</td><td>Premium</td></tr><tr><td>2009</td><td>ACC1005-CHK</td><td>-350.00</td><td>Premium</td></tr><tr><td>2011</td><td>ACC1007-SAV</td><td>18600.00</td><td>Premium</td></tr><tr><td>2001</td><td>ACC1001-SAV</td><td>15100.00</td><td>Premium</td></tr><tr><td>2002</td><td>ACC1001-CHK</td><td>3600.50</td><td>Premium</td></tr><tr><td>2008</td><td>ACC1005-SAV</td><td>22100.00</td><td>Premium</td></tr><tr><td>2009</td><td>ACC1005-CHK</td><td>-350.00</td><td>Premium</td></tr><tr><td>2011</td><td>ACC1007-SAV</td><td>18600.00</td><td>Premium</td></tr></tbody></table></div>"
      ]
     },
     "metadata": {
      "application/vnd.databricks.v1+output": {
       "addedWidgets": {},
       "aggData": [],
       "aggError": "",
       "aggOverflow": false,
       "aggSchema": [],
       "aggSeriesLimitReached": false,
       "aggType": "",
       "arguments": {},
       "columnCustomDisplayInfos": {},
       "data": [
        [
         2001,
         "ACC1001-SAV",
         "15100.00",
         "Premium"
        ],
        [
         2002,
         "ACC1001-CHK",
         "3600.50",
         "Premium"
        ],
        [
         2008,
         "ACC1005-SAV",
         "22100.00",
         "Premium"
        ],
        [
         2009,
         "ACC1005-CHK",
         "-350.00",
         "Premium"
        ],
        [
         2011,
         "ACC1007-SAV",
         "18600.00",
         "Premium"
        ],
        [
         2001,
         "ACC1001-SAV",
         "15100.00",
         "Premium"
        ],
        [
         2002,
         "ACC1001-CHK",
         "3600.50",
         "Premium"
        ],
        [
         2008,
         "ACC1005-SAV",
         "22100.00",
         "Premium"
        ],
        [
         2009,
         "ACC1005-CHK",
         "-350.00",
         "Premium"
        ],
        [
         2011,
         "ACC1007-SAV",
         "18600.00",
         "Premium"
        ],
        [
         2001,
         "ACC1001-SAV",
         "15100.00",
         "Premium"
        ],
        [
         2002,
         "ACC1001-CHK",
         "3600.50",
         "Premium"
        ],
        [
         2008,
         "ACC1005-SAV",
         "22100.00",
         "Premium"
        ],
        [
         2009,
         "ACC1005-CHK",
         "-350.00",
         "Premium"
        ],
        [
         2011,
         "ACC1007-SAV",
         "18600.00",
         "Premium"
        ],
        [
         2001,
         "ACC1001-SAV",
         "15100.00",
         "Premium"
        ],
        [
         2002,
         "ACC1001-CHK",
         "3600.50",
         "Premium"
        ],
        [
         2008,
         "ACC1005-SAV",
         "22100.00",
         "Premium"
        ],
        [
         2009,
         "ACC1005-CHK",
         "-350.00",
         "Premium"
        ],
        [
         2011,
         "ACC1007-SAV",
         "18600.00",
         "Premium"
        ]
       ],
       "datasetInfos": [
        {
         "name": "_sqldf",
         "schema": {
          "fields": [
           {
            "metadata": {},
            "name": "account_id",
            "nullable": false,
            "type": "integer"
           },
           {
            "metadata": {},
            "name": "account_number",
            "nullable": false,
            "type": "string"
           },
           {
            "metadata": {},
            "name": "balance",
            "nullable": false,
            "type": "decimal(10,2)"
           },
           {
            "metadata": {},
            "name": "customer_type",
            "nullable": true,
            "type": "string"
           }
          ],
          "type": "struct"
         },
         "tableIdentifier": null,
         "typeStr": "pyspark.sql.connect.dataframe.DataFrame"
        }
       ],
       "dbfsResultPath": null,
       "isJsonSchema": true,
       "metadata": {
        "createTempViewForImplicitDf": true,
        "dataframeName": "_sqldf",
        "executionCount": 25
       },
       "overflow": false,
       "plotOptions": {
        "customPlotOptions": {},
        "displayType": "table",
        "pivotAggregation": null,
        "pivotColumns": null,
        "xColumns": null,
        "yColumns": null
       },
       "removedWidgets": [],
       "schema": [
        {
         "metadata": "{}",
         "name": "account_id",
         "type": "\"integer\""
        },
        {
         "metadata": "{}",
         "name": "account_number",
         "type": "\"string\""
        },
        {
         "metadata": "{}",
         "name": "balance",
         "type": "\"decimal(10,2)\""
        },
        {
         "metadata": "{}",
         "name": "customer_type",
         "type": "\"string\""
        }
       ],
       "type": "table"
      }
     },
     "output_type": "display_data"
    }
   ],
   "source": [
    "-- Verify - Check Premium customer accounts\n",
    "select a.account_id, a.account_number, a.balance, c.customer_type\n",
    "from accounts a\n",
    "join customers c on a.customer_id = c.customer_id\n",
    "where c.customer_type = 'Premium';"
   ]
  },
  {
   "cell_type": "code",
   "execution_count": 0,
   "metadata": {
    "application/vnd.databricks.v1+cell": {
     "cellMetadata": {
      "byteLimit": 2048000,
      "rowLimit": 10000
     },
     "inputWidgets": {},
     "nuid": "920e442d-5937-47e5-941e-6dcb3484c991",
     "showTitle": false,
     "tableResultSettingsMap": {},
     "title": ""
    }
   },
   "outputs": [
    {
     "output_type": "display_data",
     "data": {
      "text/html": [
       "<style scoped>\n",
       "  .table-result-container {\n",
       "    max-height: 300px;\n",
       "    overflow: auto;\n",
       "  }\n",
       "  table, th, td {\n",
       "    border: 1px solid black;\n",
       "    border-collapse: collapse;\n",
       "  }\n",
       "  th, td {\n",
       "    padding: 5px;\n",
       "  }\n",
       "  th {\n",
       "    text-align: left;\n",
       "  }\n",
       "</style><div class='table-result-container'><table class='table-result'><thead style='background-color: white'><tr><th>num_affected_rows</th></tr></thead><tbody><tr><td>16</td></tr></tbody></table></div>"
      ]
     },
     "metadata": {
      "application/vnd.databricks.v1+output": {
       "addedWidgets": {},
       "aggData": [],
       "aggError": "",
       "aggOverflow": false,
       "aggSchema": [],
       "aggSeriesLimitReached": false,
       "aggType": "",
       "arguments": {},
       "columnCustomDisplayInfos": {},
       "data": [
        [
         16
        ]
       ],
       "datasetInfos": [
        {
         "name": "_sqldf",
         "schema": {
          "fields": [
           {
            "metadata": {},
            "name": "num_affected_rows",
            "nullable": true,
            "type": "long"
           }
          ],
          "type": "struct"
         },
         "tableIdentifier": null,
         "typeStr": "pyspark.sql.connect.dataframe.DataFrame"
        }
       ],
       "dbfsResultPath": null,
       "isJsonSchema": true,
       "metadata": {
        "createTempViewForImplicitDf": true,
        "dataframeName": "_sqldf",
        "executionCount": 48
       },
       "overflow": false,
       "plotOptions": {
        "customPlotOptions": {},
        "displayType": "table",
        "pivotAggregation": null,
        "pivotColumns": null,
        "xColumns": null,
        "yColumns": null
       },
       "removedWidgets": [],
       "schema": [
        {
         "metadata": "{}",
         "name": "num_affected_rows",
         "type": "\"long\""
        }
       ],
       "type": "table"
      }
     },
     "output_type": "display_data"
    }
   ],
   "source": [
    "-- UPDATE 5: Update using CASE Statement\n",
    "-- Scenario: Upgrade customer tiers based on total balance\n",
    "\n",
    "update customers c\n",
    "set customer_type = case   \n",
    "when (select sum(balance) from accounts where customer_id = c.customer_id) >= 100000 then 'VIP'\n",
    "WHEN (SELECT SUM(balance) FROM accounts WHERE customer_id = c.customer_id) >= 20000 THEN 'Premium'\n",
    "    ELSE 'Regular'\n",
    "END\n",
    "WHERE customer_id IN (SELECT DISTINCT customer_id FROM accounts);\n"
   ]
  },
  {
   "cell_type": "markdown",
   "metadata": {
    "application/vnd.databricks.v1+cell": {
     "cellMetadata": {},
     "inputWidgets": {},
     "nuid": "983f7177-2f76-49f2-987b-198031417480",
     "showTitle": false,
     "tableResultSettingsMap": {},
     "title": ""
    }
   },
   "source": [
    "**PART 6: NULL HANDLING**"
   ]
  },
  {
   "cell_type": "code",
   "execution_count": 0,
   "metadata": {
    "application/vnd.databricks.v1+cell": {
     "cellMetadata": {
      "byteLimit": 2048000,
      "rowLimit": 10000
     },
     "inputWidgets": {},
     "nuid": "76739f2d-42f3-4f5d-950c-d15dda3e8305",
     "showTitle": false,
     "tableResultSettingsMap": {},
     "title": ""
    }
   },
   "outputs": [
    {
     "output_type": "display_data",
     "data": {
      "text/html": [
       "<style scoped>\n",
       "  .table-result-container {\n",
       "    max-height: 300px;\n",
       "    overflow: auto;\n",
       "  }\n",
       "  table, th, td {\n",
       "    border: 1px solid black;\n",
       "    border-collapse: collapse;\n",
       "  }\n",
       "  th, td {\n",
       "    padding: 5px;\n",
       "  }\n",
       "  th {\n",
       "    text-align: left;\n",
       "  }\n",
       "</style><div class='table-result-container'><table class='table-result'><thead style='background-color: white'><tr><th>customer_id</th><th>first_name</th><th>last_name</th><th>phone</th><th>last_activity_date</th></tr></thead><tbody><tr><td>1006</td><td>Lisa</td><td>Johnson</td><td>555-1006</td><td>2023-05-20</td></tr><tr><td>1006</td><td>Lisa</td><td>Johnson</td><td>555-1006</td><td>2023-05-20</td></tr><tr><td>1002</td><td>Sarah</td><td>Mitchell</td><td>555-1002</td><td>2024-10-22</td></tr><tr><td>1002</td><td>Sarah</td><td>Mitchell</td><td>555-1002</td><td>2024-10-22</td></tr><tr><td>1004</td><td>Emily</td><td>Rodriguez</td><td>555-1004</td><td>2024-10-15</td></tr><tr><td>1004</td><td>Emily</td><td>Rodriguez</td><td>555-1004</td><td>2024-10-15</td></tr><tr><td>1001</td><td>John</td><td>Anderson</td><td>555-1001</td><td>2024-10-25</td></tr><tr><td>1003</td><td>Michael</td><td>Thompson</td><td>555-1003</td><td>2019-06-20</td></tr><tr><td>1005</td><td>David</td><td>Chen</td><td>555-1005</td><td>2024-10-24</td></tr><tr><td>1007</td><td>Robert</td><td>Williams</td><td>Not Provided</td><td>2024-10-21</td></tr><tr><td>1008</td><td>Jennifer</td><td>Brown</td><td>555-1008</td><td>2023-09-01</td></tr><tr><td>1001</td><td>John</td><td>Anderson</td><td>555-1001</td><td>2024-10-25</td></tr><tr><td>1003</td><td>Michael</td><td>Thompson</td><td>555-1003</td><td>2019-06-20</td></tr><tr><td>1005</td><td>David</td><td>Chen</td><td>555-1005</td><td>2024-10-24</td></tr><tr><td>1007</td><td>Robert</td><td>Williams</td><td>Not Provided</td><td>2024-10-21</td></tr><tr><td>1008</td><td>Jennifer</td><td>Brown</td><td>555-1008</td><td>2023-09-01</td></tr><tr><td>1006</td><td>Lisa</td><td>Johnson</td><td>555-1006</td><td>2023-05-20</td></tr><tr><td>1006</td><td>Lisa</td><td>Johnson</td><td>555-1006</td><td>2023-05-20</td></tr><tr><td>1002</td><td>Sarah</td><td>Mitchell</td><td>555-1002</td><td>2024-10-22</td></tr><tr><td>1002</td><td>Sarah</td><td>Mitchell</td><td>555-1002</td><td>2024-10-22</td></tr><tr><td>1004</td><td>Emily</td><td>Rodriguez</td><td>555-1004</td><td>2024-10-15</td></tr><tr><td>1004</td><td>Emily</td><td>Rodriguez</td><td>555-1004</td><td>2024-10-15</td></tr><tr><td>1001</td><td>John</td><td>Anderson</td><td>555-1001</td><td>2024-10-20</td></tr><tr><td>1003</td><td>Michael</td><td>Thompson</td><td>555-1003</td><td>2024-10-27</td></tr><tr><td>1005</td><td>David</td><td>Chen</td><td>555-1005</td><td>2024-10-28</td></tr><tr><td>1007</td><td>Robert</td><td>Williams</td><td>Not Provided</td><td>2024-10-21</td></tr><tr><td>1008</td><td>Jennifer</td><td>Brown</td><td>555-1008</td><td>2023-09-01</td></tr><tr><td>1001</td><td>John</td><td>Anderson</td><td>555-1001</td><td>2024-10-20</td></tr><tr><td>1003</td><td>Michael</td><td>Thompson</td><td>555-1003</td><td>2024-10-27</td></tr><tr><td>1005</td><td>David</td><td>Chen</td><td>555-1005</td><td>2024-10-28</td></tr><tr><td>1007</td><td>Robert</td><td>Williams</td><td>Not Provided</td><td>2024-10-21</td></tr><tr><td>1008</td><td>Jennifer</td><td>Brown</td><td>555-1008</td><td>2023-09-01</td></tr><tr><td>1001</td><td>John</td><td>Anderson</td><td>555-1001</td><td>2024-10-25</td></tr><tr><td>1003</td><td>Michael</td><td>Thompson</td><td>555-1003</td><td>2024-10-26</td></tr><tr><td>1005</td><td>David</td><td>Chen</td><td>555-1005</td><td>2024-10-24</td></tr><tr><td>1001</td><td>John</td><td>Anderson</td><td>555-1001</td><td>2024-10-25</td></tr><tr><td>1003</td><td>Michael</td><td>Thompson</td><td>555-1003</td><td>2024-10-26</td></tr><tr><td>1005</td><td>David</td><td>Chen</td><td>555-1005</td><td>2024-10-24</td></tr><tr><td>1001</td><td>John</td><td>Anderson</td><td>555-1001</td><td>2024-10-20</td></tr><tr><td>1003</td><td>Michael</td><td>Thompson</td><td>555-1003</td><td>2019-06-20</td></tr><tr><td>1005</td><td>David</td><td>Chen</td><td>555-1005</td><td>2024-10-28</td></tr><tr><td>1001</td><td>John</td><td>Anderson</td><td>555-1001</td><td>2024-10-20</td></tr><tr><td>1003</td><td>Michael</td><td>Thompson</td><td>555-1003</td><td>2019-06-20</td></tr><tr><td>1005</td><td>David</td><td>Chen</td><td>555-1005</td><td>2024-10-28</td></tr><tr><td>1003</td><td>Michael</td><td>Thompson</td><td>555-1003</td><td>2024-10-27</td></tr><tr><td>1003</td><td>Michael</td><td>Thompson</td><td>555-1003</td><td>2024-10-27</td></tr><tr><td>1003</td><td>Michael</td><td>Thompson</td><td>555-1003</td><td>2024-10-26</td></tr><tr><td>1003</td><td>Michael</td><td>Thompson</td><td>555-1003</td><td>2024-10-26</td></tr></tbody></table></div>"
      ]
     },
     "metadata": {
      "application/vnd.databricks.v1+output": {
       "addedWidgets": {},
       "aggData": [],
       "aggError": "",
       "aggOverflow": false,
       "aggSchema": [],
       "aggSeriesLimitReached": false,
       "aggType": "",
       "arguments": {},
       "columnCustomDisplayInfos": {},
       "data": [
        [
         1006,
         "Lisa",
         "Johnson",
         "555-1006",
         "2023-05-20"
        ],
        [
         1006,
         "Lisa",
         "Johnson",
         "555-1006",
         "2023-05-20"
        ],
        [
         1002,
         "Sarah",
         "Mitchell",
         "555-1002",
         "2024-10-22"
        ],
        [
         1002,
         "Sarah",
         "Mitchell",
         "555-1002",
         "2024-10-22"
        ],
        [
         1004,
         "Emily",
         "Rodriguez",
         "555-1004",
         "2024-10-15"
        ],
        [
         1004,
         "Emily",
         "Rodriguez",
         "555-1004",
         "2024-10-15"
        ],
        [
         1001,
         "John",
         "Anderson",
         "555-1001",
         "2024-10-25"
        ],
        [
         1003,
         "Michael",
         "Thompson",
         "555-1003",
         "2019-06-20"
        ],
        [
         1005,
         "David",
         "Chen",
         "555-1005",
         "2024-10-24"
        ],
        [
         1007,
         "Robert",
         "Williams",
         "Not Provided",
         "2024-10-21"
        ],
        [
         1008,
         "Jennifer",
         "Brown",
         "555-1008",
         "2023-09-01"
        ],
        [
         1001,
         "John",
         "Anderson",
         "555-1001",
         "2024-10-25"
        ],
        [
         1003,
         "Michael",
         "Thompson",
         "555-1003",
         "2019-06-20"
        ],
        [
         1005,
         "David",
         "Chen",
         "555-1005",
         "2024-10-24"
        ],
        [
         1007,
         "Robert",
         "Williams",
         "Not Provided",
         "2024-10-21"
        ],
        [
         1008,
         "Jennifer",
         "Brown",
         "555-1008",
         "2023-09-01"
        ],
        [
         1006,
         "Lisa",
         "Johnson",
         "555-1006",
         "2023-05-20"
        ],
        [
         1006,
         "Lisa",
         "Johnson",
         "555-1006",
         "2023-05-20"
        ],
        [
         1002,
         "Sarah",
         "Mitchell",
         "555-1002",
         "2024-10-22"
        ],
        [
         1002,
         "Sarah",
         "Mitchell",
         "555-1002",
         "2024-10-22"
        ],
        [
         1004,
         "Emily",
         "Rodriguez",
         "555-1004",
         "2024-10-15"
        ],
        [
         1004,
         "Emily",
         "Rodriguez",
         "555-1004",
         "2024-10-15"
        ],
        [
         1001,
         "John",
         "Anderson",
         "555-1001",
         "2024-10-20"
        ],
        [
         1003,
         "Michael",
         "Thompson",
         "555-1003",
         "2024-10-27"
        ],
        [
         1005,
         "David",
         "Chen",
         "555-1005",
         "2024-10-28"
        ],
        [
         1007,
         "Robert",
         "Williams",
         "Not Provided",
         "2024-10-21"
        ],
        [
         1008,
         "Jennifer",
         "Brown",
         "555-1008",
         "2023-09-01"
        ],
        [
         1001,
         "John",
         "Anderson",
         "555-1001",
         "2024-10-20"
        ],
        [
         1003,
         "Michael",
         "Thompson",
         "555-1003",
         "2024-10-27"
        ],
        [
         1005,
         "David",
         "Chen",
         "555-1005",
         "2024-10-28"
        ],
        [
         1007,
         "Robert",
         "Williams",
         "Not Provided",
         "2024-10-21"
        ],
        [
         1008,
         "Jennifer",
         "Brown",
         "555-1008",
         "2023-09-01"
        ],
        [
         1001,
         "John",
         "Anderson",
         "555-1001",
         "2024-10-25"
        ],
        [
         1003,
         "Michael",
         "Thompson",
         "555-1003",
         "2024-10-26"
        ],
        [
         1005,
         "David",
         "Chen",
         "555-1005",
         "2024-10-24"
        ],
        [
         1001,
         "John",
         "Anderson",
         "555-1001",
         "2024-10-25"
        ],
        [
         1003,
         "Michael",
         "Thompson",
         "555-1003",
         "2024-10-26"
        ],
        [
         1005,
         "David",
         "Chen",
         "555-1005",
         "2024-10-24"
        ],
        [
         1001,
         "John",
         "Anderson",
         "555-1001",
         "2024-10-20"
        ],
        [
         1003,
         "Michael",
         "Thompson",
         "555-1003",
         "2019-06-20"
        ],
        [
         1005,
         "David",
         "Chen",
         "555-1005",
         "2024-10-28"
        ],
        [
         1001,
         "John",
         "Anderson",
         "555-1001",
         "2024-10-20"
        ],
        [
         1003,
         "Michael",
         "Thompson",
         "555-1003",
         "2019-06-20"
        ],
        [
         1005,
         "David",
         "Chen",
         "555-1005",
         "2024-10-28"
        ],
        [
         1003,
         "Michael",
         "Thompson",
         "555-1003",
         "2024-10-27"
        ],
        [
         1003,
         "Michael",
         "Thompson",
         "555-1003",
         "2024-10-27"
        ],
        [
         1003,
         "Michael",
         "Thompson",
         "555-1003",
         "2024-10-26"
        ],
        [
         1003,
         "Michael",
         "Thompson",
         "555-1003",
         "2024-10-26"
        ]
       ],
       "datasetInfos": [
        {
         "name": "_sqldf",
         "schema": {
          "fields": [
           {
            "metadata": {},
            "name": "customer_id",
            "nullable": false,
            "type": "integer"
           },
           {
            "metadata": {},
            "name": "first_name",
            "nullable": false,
            "type": "string"
           },
           {
            "metadata": {},
            "name": "last_name",
            "nullable": false,
            "type": "string"
           },
           {
            "metadata": {},
            "name": "phone",
            "nullable": false,
            "type": "string"
           },
           {
            "metadata": {},
            "name": "last_activity_date",
            "nullable": true,
            "type": "date"
           }
          ],
          "type": "struct"
         },
         "tableIdentifier": null,
         "typeStr": "pyspark.sql.connect.dataframe.DataFrame"
        }
       ],
       "dbfsResultPath": null,
       "isJsonSchema": true,
       "metadata": {
        "createTempViewForImplicitDf": true,
        "dataframeName": "_sqldf",
        "executionCount": 102
       },
       "overflow": false,
       "plotOptions": {
        "customPlotOptions": {},
        "displayType": "table",
        "pivotAggregation": null,
        "pivotColumns": null,
        "xColumns": null,
        "yColumns": null
       },
       "removedWidgets": [],
       "schema": [
        {
         "metadata": "{}",
         "name": "customer_id",
         "type": "\"integer\""
        },
        {
         "metadata": "{}",
         "name": "first_name",
         "type": "\"string\""
        },
        {
         "metadata": "{}",
         "name": "last_name",
         "type": "\"string\""
        },
        {
         "metadata": "{}",
         "name": "phone",
         "type": "\"string\""
        },
        {
         "metadata": "{}",
         "name": "last_activity_date",
         "type": "\"date\""
        }
       ],
       "type": "table"
      }
     },
     "output_type": "display_data"
    }
   ],
   "source": [
    "-- Null Handling - Working with missing/unknown data\n",
    "-- Example 1: COALESCE - Provide default values\n",
    "-- Scenario: Show phone or \"Not Provided\" if missing\n",
    "\n",
    "SELECT c.customer_id,\n",
    "       c.first_name,\n",
    "       c.last_name,\n",
    "       coalesce(c.phone, 'Not Provided') as phone,\n",
    "       coalesce(a.last_transaction_date, a.opened_date) as last_activity_date\n",
    "FROM customers c\n",
    "LEFT JOIN accounts a ON c.customer_id = a.customer_id;"
   ]
  },
  {
   "cell_type": "code",
   "execution_count": 0,
   "metadata": {
    "application/vnd.databricks.v1+cell": {
     "cellMetadata": {
      "byteLimit": 2048000,
      "rowLimit": 10000
     },
     "inputWidgets": {},
     "nuid": "d0f682b6-494a-47f0-8560-6a5bfdb06d8f",
     "showTitle": false,
     "tableResultSettingsMap": {},
     "title": ""
    }
   },
   "outputs": [
    {
     "output_type": "display_data",
     "data": {
      "text/html": [
       "<style scoped>\n",
       "  .table-result-container {\n",
       "    max-height: 300px;\n",
       "    overflow: auto;\n",
       "  }\n",
       "  table, th, td {\n",
       "    border: 1px solid black;\n",
       "    border-collapse: collapse;\n",
       "  }\n",
       "  th, td {\n",
       "    padding: 5px;\n",
       "  }\n",
       "  th {\n",
       "    text-align: left;\n",
       "  }\n",
       "</style><div class='table-result-container'><table class='table-result'><thead style='background-color: white'><tr><th>account_id</th><th>balance</th><th>balance_category</th></tr></thead><tbody><tr><td>2003</td><td>8200.75</td><td>Medium</td></tr><tr><td>2004</td><td>50000.00</td><td>Very High</td></tr><tr><td>2005</td><td>12000.00</td><td>High</td></tr><tr><td>2006</td><td>100000.00</td><td>Very High</td></tr><tr><td>2007</td><td>1250.30</td><td>Medium</td></tr><tr><td>2010</td><td>500.00</td><td>Low</td></tr><tr><td>2012</td><td>0.00</td><td>Low</td></tr><tr><td>2001</td><td>15100.00</td><td>High</td></tr><tr><td>2002</td><td>3600.50</td><td>Medium</td></tr><tr><td>2008</td><td>22100.00</td><td>High</td></tr><tr><td>2009</td><td>-350.00</td><td>Low</td></tr><tr><td>2011</td><td>18600.00</td><td>High</td></tr><tr><td>2001</td><td>15100.00</td><td>High</td></tr><tr><td>2002</td><td>3600.50</td><td>Medium</td></tr><tr><td>2008</td><td>22100.00</td><td>High</td></tr><tr><td>2009</td><td>-350.00</td><td>Low</td></tr><tr><td>2011</td><td>18600.00</td><td>High</td></tr><tr><td>2003</td><td>8200.75</td><td>Medium</td></tr><tr><td>2004</td><td>50000.00</td><td>Very High</td></tr><tr><td>2005</td><td>12000.00</td><td>High</td></tr><tr><td>2006</td><td>100000.00</td><td>Very High</td></tr><tr><td>2007</td><td>1250.30</td><td>Medium</td></tr><tr><td>2010</td><td>500.00</td><td>Low</td></tr><tr><td>2012</td><td>0.00</td><td>Low</td></tr></tbody></table></div>"
      ]
     },
     "metadata": {
      "application/vnd.databricks.v1+output": {
       "addedWidgets": {},
       "aggData": [],
       "aggError": "",
       "aggOverflow": false,
       "aggSchema": [],
       "aggSeriesLimitReached": false,
       "aggType": "",
       "arguments": {},
       "columnCustomDisplayInfos": {},
       "data": [
        [
         2003,
         "8200.75",
         "Medium"
        ],
        [
         2004,
         "50000.00",
         "Very High"
        ],
        [
         2005,
         "12000.00",
         "High"
        ],
        [
         2006,
         "100000.00",
         "Very High"
        ],
        [
         2007,
         "1250.30",
         "Medium"
        ],
        [
         2010,
         "500.00",
         "Low"
        ],
        [
         2012,
         "0.00",
         "Low"
        ],
        [
         2001,
         "15100.00",
         "High"
        ],
        [
         2002,
         "3600.50",
         "Medium"
        ],
        [
         2008,
         "22100.00",
         "High"
        ],
        [
         2009,
         "-350.00",
         "Low"
        ],
        [
         2011,
         "18600.00",
         "High"
        ],
        [
         2001,
         "15100.00",
         "High"
        ],
        [
         2002,
         "3600.50",
         "Medium"
        ],
        [
         2008,
         "22100.00",
         "High"
        ],
        [
         2009,
         "-350.00",
         "Low"
        ],
        [
         2011,
         "18600.00",
         "High"
        ],
        [
         2003,
         "8200.75",
         "Medium"
        ],
        [
         2004,
         "50000.00",
         "Very High"
        ],
        [
         2005,
         "12000.00",
         "High"
        ],
        [
         2006,
         "100000.00",
         "Very High"
        ],
        [
         2007,
         "1250.30",
         "Medium"
        ],
        [
         2010,
         "500.00",
         "Low"
        ],
        [
         2012,
         "0.00",
         "Low"
        ]
       ],
       "datasetInfos": [
        {
         "name": "_sqldf",
         "schema": {
          "fields": [
           {
            "metadata": {},
            "name": "account_id",
            "nullable": false,
            "type": "integer"
           },
           {
            "metadata": {},
            "name": "balance",
            "nullable": false,
            "type": "decimal(10,2)"
           },
           {
            "metadata": {},
            "name": "balance_category",
            "nullable": false,
            "type": "string"
           }
          ],
          "type": "struct"
         },
         "tableIdentifier": null,
         "typeStr": "pyspark.sql.connect.dataframe.DataFrame"
        }
       ],
       "dbfsResultPath": null,
       "isJsonSchema": true,
       "metadata": {
        "createTempViewForImplicitDf": true,
        "dataframeName": "_sqldf",
        "executionCount": 151
       },
       "overflow": false,
       "plotOptions": {
        "customPlotOptions": {},
        "displayType": "table",
        "pivotAggregation": null,
        "pivotColumns": null,
        "xColumns": null,
        "yColumns": null
       },
       "removedWidgets": [],
       "schema": [
        {
         "metadata": "{}",
         "name": "account_id",
         "type": "\"integer\""
        },
        {
         "metadata": "{}",
         "name": "balance",
         "type": "\"decimal(10,2)\""
        },
        {
         "metadata": "{}",
         "name": "balance_category",
         "type": "\"string\""
        }
       ],
       "type": "table"
      }
     },
     "output_type": "display_data"
    }
   ],
   "source": [
    "select account_id, balance,\n",
    "case  \n",
    "   when balance >= 50000 then 'Very High'\n",
    "   when balance >= 10000 then 'High'\n",
    "   when balance >= 1000 then 'Medium'\n",
    "   else 'Low'\n",
    "  end as balance_category\n",
    "from accounts;"
   ]
  },
  {
   "cell_type": "code",
   "execution_count": 0,
   "metadata": {
    "application/vnd.databricks.v1+cell": {
     "cellMetadata": {},
     "inputWidgets": {},
     "nuid": "c1bb1ad6-4d11-45d5-9725-b979061af281",
     "showTitle": false,
     "tableResultSettingsMap": {},
     "title": ""
    }
   },
   "outputs": [],
   "source": []
  }
 ],
 "metadata": {
  "application/vnd.databricks.v1+notebook": {
   "computePreferences": null,
   "dashboards": [],
   "environmentMetadata": {
    "base_environment": "",
    "environment_version": "4"
   },
   "inputWidgetPreferences": null,
   "language": "sql",
   "notebookMetadata": {
    "pythonIndentUnit": 4
   },
   "notebookName": "DAY_02_DML OPERATIONS",
   "widgets": {}
  },
  "language_info": {
   "name": "sql"
  }
 },
 "nbformat": 4,
 "nbformat_minor": 0
}